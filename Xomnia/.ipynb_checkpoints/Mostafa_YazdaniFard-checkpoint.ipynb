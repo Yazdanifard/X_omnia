{
 "cells": [
  {
   "cell_type": "code",
   "execution_count": 1,
   "metadata": {
    "ExecuteTime": {
     "end_time": "2021-01-23T13:09:09.091435Z",
     "start_time": "2021-01-23T13:09:08.633542Z"
    }
   },
   "outputs": [],
   "source": [
    "import pandas as pd\n",
    "import re\n",
    "import json\n",
    "from collections import Counter\n",
    "from datetime import datetime\n",
    "from pandas.io.json import json_normalize\n",
    "\n",
    "DATA_CLEAN_MESSAGES='clean_messages.csv'\n",
    "DATA_RAW_MESSAGES='raw_messages.csv'\n",
    "DATA_WEATHER='weather_data.json'\n",
    "DB_FILE_PATH = 'xomnia.db'\n",
    "EXPANDED_COLUMNS_NAME=['status','lat','lat_dir','lon','lon_dir','speed','track_degrees','date','mag_var','mag_var_dir']\n"
   ]
  },
  {
   "cell_type": "code",
   "execution_count": 2,
   "metadata": {
    "ExecuteTime": {
     "end_time": "2021-01-23T13:09:09.261487Z",
     "start_time": "2021-01-23T13:09:09.095328Z"
    }
   },
   "outputs": [],
   "source": [
    "df_rm=pd.read_csv(DATA_RAW_MESSAGES).rename(columns={'\\tdevice_id':'device_id'})"
   ]
  },
  {
   "cell_type": "markdown",
   "metadata": {},
   "source": [
    "### Exercise 1: reading the input data "
   ]
  },
  {
   "cell_type": "code",
   "execution_count": 3,
   "metadata": {
    "ExecuteTime": {
     "end_time": "2021-01-23T13:09:09.422576Z",
     "start_time": "2021-01-23T13:09:09.265477Z"
    }
   },
   "outputs": [
    {
     "data": {
      "text/plain": [
       "['$', '%', '@', '&', '*']"
      ]
     },
     "execution_count": 3,
     "metadata": {},
     "output_type": "execute_result"
    }
   ],
   "source": [
    "def unwanted_chars_from_column(df_coulmn=df_rm['raw_message'],regex_allowed_chars=\"[^0-9a-zA-Z,.]\"):\n",
    "    df_unwanted_chars=df_coulmn.apply(lambda x: (re.findall(regex_allowed_chars, x)))\n",
    "    unique_list_unwanted_chars=list(set([' '.join(y) for x in df_unwanted_chars for y in x]))\n",
    "    return unique_list_unwanted_chars\n",
    "unwanted_chars=unwanted_chars_from_column()\n",
    "unwanted_chars"
   ]
  },
  {
   "cell_type": "code",
   "execution_count": 4,
   "metadata": {
    "ExecuteTime": {
     "end_time": "2021-01-23T13:09:09.603709Z",
     "start_time": "2021-01-23T13:09:09.425567Z"
    }
   },
   "outputs": [],
   "source": [
    "def expand_column_with_delimiter(column=df_rm['raw_message'],\n",
    "                                 delimiter=',',\n",
    "                                 expand=True,\n",
    "                                 new_columns_names=EXPANDED_COLUMNS_NAME):\n",
    "    col_names = dict(zip(range(0, len(new_columns_names)), new_columns_names))\n",
    "    return column.str.split(delimiter,expand=expand).rename(columns=col_names)\n",
    "\n",
    "expand_column_with_delimiter();"
   ]
  },
  {
   "cell_type": "code",
   "execution_count": 5,
   "metadata": {
    "ExecuteTime": {
     "end_time": "2021-01-23T13:09:09.774398Z",
     "start_time": "2021-01-23T13:09:09.607602Z"
    }
   },
   "outputs": [],
   "source": [
    "def concat_main_df_with_expanded_columns(df1,df2):\n",
    "    return pd.concat([df1,df2],axis=1)\n",
    "df_rm=concat_main_df_with_expanded_columns(df_rm,expand_column_with_delimiter());"
   ]
  },
  {
   "cell_type": "code",
   "execution_count": 6,
   "metadata": {
    "ExecuteTime": {
     "end_time": "2021-01-23T13:09:10.865955Z",
     "start_time": "2021-01-23T13:09:09.778146Z"
    },
    "cell_style": "center"
   },
   "outputs": [
    {
     "data": {
      "text/html": [
       "<div>\n",
       "<style scoped>\n",
       "    .dataframe tbody tr th:only-of-type {\n",
       "        vertical-align: middle;\n",
       "    }\n",
       "\n",
       "    .dataframe tbody tr th {\n",
       "        vertical-align: top;\n",
       "    }\n",
       "\n",
       "    .dataframe thead th {\n",
       "        text-align: right;\n",
       "    }\n",
       "</style>\n",
       "<table border=\"1\" class=\"dataframe\">\n",
       "  <thead>\n",
       "    <tr style=\"text-align: right;\">\n",
       "      <th></th>\n",
       "      <th>device_id</th>\n",
       "      <th>datetime</th>\n",
       "      <th>address_ip</th>\n",
       "      <th>address_port</th>\n",
       "      <th>original_message_id</th>\n",
       "      <th>raw_message</th>\n",
       "      <th>status</th>\n",
       "      <th>lat</th>\n",
       "      <th>lat_dir</th>\n",
       "      <th>lon</th>\n",
       "      <th>lon_dir</th>\n",
       "      <th>speed</th>\n",
       "      <th>track_degrees</th>\n",
       "      <th>date</th>\n",
       "      <th>mag_var</th>\n",
       "      <th>mag_var_dir</th>\n",
       "    </tr>\n",
       "  </thead>\n",
       "  <tbody>\n",
       "    <tr>\n",
       "      <th>0</th>\n",
       "      <td>0001</td>\n",
       "      <td>1550066999</td>\n",
       "      <td>172.19.0.17</td>\n",
       "      <td>4007</td>\n",
       "      <td>1550070599576-0</td>\n",
       "      <td>A,5$1.31%8308166&amp;6666@7,*N,4.31572216@6666666,...</td>\n",
       "      <td>A</td>\n",
       "      <td>51.31830816666667</td>\n",
       "      <td>N</td>\n",
       "      <td>4.315722166666666</td>\n",
       "      <td>E</td>\n",
       "      <td>0.0</td>\n",
       "      <td>1.59</td>\n",
       "      <td>150218</td>\n",
       "      <td>0.8</td>\n",
       "      <td>E</td>\n",
       "    </tr>\n",
       "    <tr>\n",
       "      <th>1</th>\n",
       "      <td>0001</td>\n",
       "      <td>1550067661</td>\n",
       "      <td>172.19.0.16</td>\n",
       "      <td>4007</td>\n",
       "      <td>1550071261429-0</td>\n",
       "      <td>A,5$1.31%8308166&amp;6666@7,*N,4.31572216@6666666,...</td>\n",
       "      <td>A</td>\n",
       "      <td>51.31830816666667</td>\n",
       "      <td>N</td>\n",
       "      <td>4.315722166666666</td>\n",
       "      <td>E</td>\n",
       "      <td>0.0</td>\n",
       "      <td>1.59</td>\n",
       "      <td>150218</td>\n",
       "      <td>0.8</td>\n",
       "      <td>E</td>\n",
       "    </tr>\n",
       "    <tr>\n",
       "      <th>2</th>\n",
       "      <td>0001</td>\n",
       "      <td>1550067048</td>\n",
       "      <td>172.19.0.17</td>\n",
       "      <td>4007</td>\n",
       "      <td>1550070648974-0</td>\n",
       "      <td>A,51.3183085,N,4.315720833333334,E,0.0,5.25,15...</td>\n",
       "      <td>A</td>\n",
       "      <td>51.3183085</td>\n",
       "      <td>N</td>\n",
       "      <td>4.315720833333334</td>\n",
       "      <td>E</td>\n",
       "      <td>0.0</td>\n",
       "      <td>5.25</td>\n",
       "      <td>150218</td>\n",
       "      <td>0.8</td>\n",
       "      <td>E</td>\n",
       "    </tr>\n",
       "    <tr>\n",
       "      <th>3</th>\n",
       "      <td>0001</td>\n",
       "      <td>1550069034</td>\n",
       "      <td>172.19.0.16</td>\n",
       "      <td>4007</td>\n",
       "      <td>1550072634730-0</td>\n",
       "      <td>A,51.3183085,N,4.315720833333334,E,0.0,5.25,15...</td>\n",
       "      <td>A</td>\n",
       "      <td>51.3183085</td>\n",
       "      <td>N</td>\n",
       "      <td>4.315720833333334</td>\n",
       "      <td>E</td>\n",
       "      <td>0.0</td>\n",
       "      <td>5.25</td>\n",
       "      <td>150218</td>\n",
       "      <td>0.8</td>\n",
       "      <td>E</td>\n",
       "    </tr>\n",
       "    <tr>\n",
       "      <th>4</th>\n",
       "      <td>0001</td>\n",
       "      <td>1550069696</td>\n",
       "      <td>172.19.0.16</td>\n",
       "      <td>4007</td>\n",
       "      <td>1550073296534-0</td>\n",
       "      <td>A,51.3183085,N,4.315720833333334,E,0.0,5.25,15...</td>\n",
       "      <td>A</td>\n",
       "      <td>51.3183085</td>\n",
       "      <td>N</td>\n",
       "      <td>4.315720833333334</td>\n",
       "      <td>E</td>\n",
       "      <td>0.0</td>\n",
       "      <td>5.25</td>\n",
       "      <td>150218</td>\n",
       "      <td>0.8</td>\n",
       "      <td>E</td>\n",
       "    </tr>\n",
       "  </tbody>\n",
       "</table>\n",
       "</div>"
      ],
      "text/plain": [
       "  device_id    datetime   address_ip  address_port original_message_id  \\\n",
       "0      0001  1550066999  172.19.0.17          4007     1550070599576-0   \n",
       "1      0001  1550067661  172.19.0.16          4007     1550071261429-0   \n",
       "2      0001  1550067048  172.19.0.17          4007     1550070648974-0   \n",
       "3      0001  1550069034  172.19.0.16          4007     1550072634730-0   \n",
       "4      0001  1550069696  172.19.0.16          4007     1550073296534-0   \n",
       "\n",
       "                                         raw_message status  \\\n",
       "0  A,5$1.31%8308166&6666@7,*N,4.31572216@6666666,...      A   \n",
       "1  A,5$1.31%8308166&6666@7,*N,4.31572216@6666666,...      A   \n",
       "2  A,51.3183085,N,4.315720833333334,E,0.0,5.25,15...      A   \n",
       "3  A,51.3183085,N,4.315720833333334,E,0.0,5.25,15...      A   \n",
       "4  A,51.3183085,N,4.315720833333334,E,0.0,5.25,15...      A   \n",
       "\n",
       "                 lat lat_dir                lon lon_dir speed track_degrees  \\\n",
       "0  51.31830816666667       N  4.315722166666666       E   0.0          1.59   \n",
       "1  51.31830816666667       N  4.315722166666666       E   0.0          1.59   \n",
       "2         51.3183085       N  4.315720833333334       E   0.0          5.25   \n",
       "3         51.3183085       N  4.315720833333334       E   0.0          5.25   \n",
       "4         51.3183085       N  4.315720833333334       E   0.0          5.25   \n",
       "\n",
       "     date mag_var mag_var_dir  \n",
       "0  150218     0.8           E  \n",
       "1  150218     0.8           E  \n",
       "2  150218     0.8           E  \n",
       "3  150218     0.8           E  \n",
       "4  150218     0.8           E  "
      ]
     },
     "execution_count": 6,
     "metadata": {},
     "output_type": "execute_result"
    }
   ],
   "source": [
    "def replace_unwatned_characters(df=df_rm,columns_names=EXPANDED_COLUMNS_NAME):\n",
    "    df_rm[columns_names]=df_rm[columns_names].replace(regex=str([x for x in unwanted_chars]), value='')\n",
    "    return df_rm\n",
    "df1=replace_unwatned_characters()\n",
    "df1.head(5)"
   ]
  },
  {
   "cell_type": "markdown",
   "metadata": {
    "cell_style": "center"
   },
   "source": [
    "## Exercise 2: calculating metrics "
   ]
  },
  {
   "cell_type": "markdown",
   "metadata": {},
   "source": [
    "### 2.1 "
   ]
  },
  {
   "cell_type": "code",
   "execution_count": 7,
   "metadata": {
    "ExecuteTime": {
     "end_time": "2021-01-23T13:09:10.886896Z",
     "start_time": "2021-01-23T13:09:10.871985Z"
    }
   },
   "outputs": [
    {
     "data": {
      "text/plain": [
       "Counter({'0001': 4110, 'st-1a2090': 23718, '1': 1226})"
      ]
     },
     "execution_count": 7,
     "metadata": {},
     "output_type": "execute_result"
    }
   ],
   "source": [
    "## Check the number of rows for each deivce_id\n",
    "Counter(df1['device_id'])"
   ]
  },
  {
   "cell_type": "markdown",
   "metadata": {
    "ExecuteTime": {
     "end_time": "2021-01-22T16:32:57.933328Z",
     "start_time": "2021-01-22T16:32:57.927344Z"
    }
   },
   "source": [
    "It seems that the device_id of '1' should be the same as '0001'. For any reason, the zeros before 1 are dropped.\n",
    "We investigate possibilities. If they have the common IP addresses, our assumption could be correct. However, the more domain knowledge of how this data is collected, could be very helpful\n"
   ]
  },
  {
   "cell_type": "code",
   "execution_count": 8,
   "metadata": {
    "ExecuteTime": {
     "end_time": "2021-01-23T13:09:10.911423Z",
     "start_time": "2021-01-23T13:09:10.892143Z"
    }
   },
   "outputs": [
    {
     "data": {
      "text/plain": [
       "(['172.18.0.14',\n",
       "  '172.18.0.15',\n",
       "  '172.18.0.17',\n",
       "  '172.19.0.11',\n",
       "  '172.19.0.15',\n",
       "  '172.19.0.16',\n",
       "  '172.19.0.17'],\n",
       " ['172.18.0.14',\n",
       "  '172.18.0.17',\n",
       "  '172.19.0.11',\n",
       "  '172.19.0.15',\n",
       "  '172.19.0.16',\n",
       "  '172.19.0.17'])"
      ]
     },
     "execution_count": 8,
     "metadata": {},
     "output_type": "execute_result"
    }
   ],
   "source": [
    "address_ip_0001=df1[df1['device_id']=='0001']['address_ip'].unique() \n",
    "address_ip_1=df1[df1['device_id']=='1']['address_ip'].unique()\n",
    "sorted(address_ip_0001),sorted(address_ip_1)"
   ]
  },
  {
   "cell_type": "markdown",
   "metadata": {},
   "source": [
    "Based on the result, just the ip '172.18.0.15' is not in address_ip_1. It could be defected for any reasons. As a result, we have two ships and we should change device_id=1 to 0001."
   ]
  },
  {
   "cell_type": "code",
   "execution_count": 9,
   "metadata": {
    "ExecuteTime": {
     "end_time": "2021-01-23T13:09:10.933171Z",
     "start_time": "2021-01-23T13:09:10.915256Z"
    }
   },
   "outputs": [
    {
     "data": {
      "text/plain": [
       "Counter({'0001': 5336, 'st-1a2090': 23718})"
      ]
     },
     "execution_count": 9,
     "metadata": {},
     "output_type": "execute_result"
    }
   ],
   "source": [
    "df1['device_id']=df1['device_id'].replace('1','0001')\n",
    "Counter(df1['device_id'])"
   ]
  },
  {
   "cell_type": "markdown",
   "metadata": {},
   "source": [
    "**we have two ships: 0001 & st-1a2090**"
   ]
  },
  {
   "cell_type": "markdown",
   "metadata": {
    "ExecuteTime": {
     "end_time": "2021-01-22T16:44:02.234356Z",
     "start_time": "2021-01-22T16:44:02.230365Z"
    }
   },
   "source": [
    "### 2.2"
   ]
  },
  {
   "cell_type": "code",
   "execution_count": 10,
   "metadata": {
    "ExecuteTime": {
     "end_time": "2021-01-23T13:09:11.290340Z",
     "start_time": "2021-01-23T13:09:10.937161Z"
    }
   },
   "outputs": [],
   "source": [
    "#  %H:%M:%S\n",
    "def create_time_column(df=df1,col_name='hour',time='%Y-%m-%d %H'):\n",
    "    df[col_name]= df['datetime'].apply(lambda  x: datetime.fromtimestamp(x).strftime(time))\n",
    "    return df\n",
    "df=create_time_column()"
   ]
  },
  {
   "cell_type": "code",
   "execution_count": 11,
   "metadata": {
    "ExecuteTime": {
     "end_time": "2021-01-23T13:09:11.693376Z",
     "start_time": "2021-01-23T13:09:11.293339Z"
    }
   },
   "outputs": [],
   "source": [
    "def create_correct_date_column(df=df1,col_name='correct_date'):\n",
    "    df[col_name]=df['datetime'].apply(lambda  x: datetime.fromtimestamp(x).strftime('%Y-%m-%d'))\n",
    "    return df\n",
    "df=create_correct_date_column()"
   ]
  },
  {
   "cell_type": "code",
   "execution_count": 12,
   "metadata": {
    "ExecuteTime": {
     "end_time": "2021-01-23T13:09:11.867084Z",
     "start_time": "2021-01-23T13:09:11.699471Z"
    }
   },
   "outputs": [
    {
     "data": {
      "text/html": [
       "<div>\n",
       "<style scoped>\n",
       "    .dataframe tbody tr th:only-of-type {\n",
       "        vertical-align: middle;\n",
       "    }\n",
       "\n",
       "    .dataframe tbody tr th {\n",
       "        vertical-align: top;\n",
       "    }\n",
       "\n",
       "    .dataframe thead th {\n",
       "        text-align: right;\n",
       "    }\n",
       "</style>\n",
       "<table border=\"1\" class=\"dataframe\">\n",
       "  <thead>\n",
       "    <tr style=\"text-align: right;\">\n",
       "      <th></th>\n",
       "      <th>correct_date</th>\n",
       "      <th>max_speed</th>\n",
       "      <th>min_speed</th>\n",
       "    </tr>\n",
       "  </thead>\n",
       "  <tbody>\n",
       "    <tr>\n",
       "      <th>0</th>\n",
       "      <td>2019-02-10</td>\n",
       "      <td>4.97</td>\n",
       "      <td>4.95</td>\n",
       "    </tr>\n",
       "    <tr>\n",
       "      <th>1</th>\n",
       "      <td>2019-02-11</td>\n",
       "      <td>1.49</td>\n",
       "      <td>0.00</td>\n",
       "    </tr>\n",
       "    <tr>\n",
       "      <th>2</th>\n",
       "      <td>2019-02-12</td>\n",
       "      <td>0.02</td>\n",
       "      <td>0.00</td>\n",
       "    </tr>\n",
       "    <tr>\n",
       "      <th>3</th>\n",
       "      <td>2019-02-13</td>\n",
       "      <td>11.50</td>\n",
       "      <td>0.00</td>\n",
       "    </tr>\n",
       "    <tr>\n",
       "      <th>4</th>\n",
       "      <td>2019-02-14</td>\n",
       "      <td>9.37</td>\n",
       "      <td>0.00</td>\n",
       "    </tr>\n",
       "  </tbody>\n",
       "</table>\n",
       "</div>"
      ],
      "text/plain": [
       "  correct_date  max_speed  min_speed\n",
       "0   2019-02-10       4.97       4.95\n",
       "1   2019-02-11       1.49       0.00\n",
       "2   2019-02-12       0.02       0.00\n",
       "3   2019-02-13      11.50       0.00\n",
       "4   2019-02-14       9.37       0.00"
      ]
     },
     "execution_count": 12,
     "metadata": {},
     "output_type": "execute_result"
    }
   ],
   "source": [
    "def min_max_column_over_day(df,ship_id,column,date='correct_date'):\n",
    "    df[column]=df[column].astype('float')\n",
    "    groupby_df=df[df['device_id']==ship_id][['device_id',date,column]].groupby([date])\n",
    "    maximum=groupby_df.max(column).rename(columns={column:str('max_'+column)}).reset_index()\n",
    "    minimum=groupby_df.min(column).rename(columns={column:str('min_'+column)}).reset_index()\n",
    "    return maximum.merge(minimum[[date,str('min_'+column)]],on=date)\n",
    "df2_2=min_max_column_over_day(df1,'st-1a2090','speed')\n",
    "df2_2"
   ]
  },
  {
   "cell_type": "code",
   "execution_count": 13,
   "metadata": {
    "ExecuteTime": {
     "end_time": "2021-01-23T13:09:11.895316Z",
     "start_time": "2021-01-23T13:09:11.873370Z"
    }
   },
   "outputs": [],
   "source": [
    "df2_2.to_csv('2.2_max_min_speed.csv')"
   ]
  },
  {
   "cell_type": "markdown",
   "metadata": {
    "ExecuteTime": {
     "end_time": "2021-01-22T17:48:56.469970Z",
     "start_time": "2021-01-22T17:48:56.465996Z"
    }
   },
   "source": [
    "### 2.3"
   ]
  },
  {
   "cell_type": "code",
   "execution_count": 14,
   "metadata": {
    "ExecuteTime": {
     "end_time": "2021-01-23T13:09:11.999683Z",
     "start_time": "2021-01-23T13:09:11.903641Z"
    }
   },
   "outputs": [
    {
     "data": {
      "text/html": [
       "<div>\n",
       "<style scoped>\n",
       "    .dataframe tbody tr th:only-of-type {\n",
       "        vertical-align: middle;\n",
       "    }\n",
       "\n",
       "    .dataframe tbody tr th {\n",
       "        vertical-align: top;\n",
       "    }\n",
       "\n",
       "    .dataframe thead th {\n",
       "        text-align: right;\n",
       "    }\n",
       "</style>\n",
       "<table border=\"1\" class=\"dataframe\">\n",
       "  <thead>\n",
       "    <tr style=\"text-align: right;\">\n",
       "      <th></th>\n",
       "      <th>device_id</th>\n",
       "      <th>hour</th>\n",
       "      <th>speed</th>\n",
       "    </tr>\n",
       "  </thead>\n",
       "  <tbody>\n",
       "    <tr>\n",
       "      <th>0</th>\n",
       "      <td>0001</td>\n",
       "      <td>2019-02-13 09</td>\n",
       "      <td>0.011667</td>\n",
       "    </tr>\n",
       "    <tr>\n",
       "      <th>1</th>\n",
       "      <td>0001</td>\n",
       "      <td>2019-02-13 10</td>\n",
       "      <td>0.003333</td>\n",
       "    </tr>\n",
       "    <tr>\n",
       "      <th>2</th>\n",
       "      <td>0001</td>\n",
       "      <td>2019-02-13 11</td>\n",
       "      <td>0.011630</td>\n",
       "    </tr>\n",
       "    <tr>\n",
       "      <th>3</th>\n",
       "      <td>0001</td>\n",
       "      <td>2019-02-13 12</td>\n",
       "      <td>0.010591</td>\n",
       "    </tr>\n",
       "    <tr>\n",
       "      <th>4</th>\n",
       "      <td>0001</td>\n",
       "      <td>2019-02-13 13</td>\n",
       "      <td>0.012800</td>\n",
       "    </tr>\n",
       "    <tr>\n",
       "      <th>5</th>\n",
       "      <td>0001</td>\n",
       "      <td>2019-02-13 14</td>\n",
       "      <td>0.008848</td>\n",
       "    </tr>\n",
       "    <tr>\n",
       "      <th>6</th>\n",
       "      <td>0001</td>\n",
       "      <td>2019-02-13 15</td>\n",
       "      <td>0.012530</td>\n",
       "    </tr>\n",
       "    <tr>\n",
       "      <th>7</th>\n",
       "      <td>0001</td>\n",
       "      <td>2019-02-13 16</td>\n",
       "      <td>0.011339</td>\n",
       "    </tr>\n",
       "    <tr>\n",
       "      <th>8</th>\n",
       "      <td>st-1a2090</td>\n",
       "      <td>2019-02-13 09</td>\n",
       "      <td>9.655000</td>\n",
       "    </tr>\n",
       "    <tr>\n",
       "      <th>9</th>\n",
       "      <td>st-1a2090</td>\n",
       "      <td>2019-02-13 10</td>\n",
       "      <td>4.980900</td>\n",
       "    </tr>\n",
       "    <tr>\n",
       "      <th>10</th>\n",
       "      <td>st-1a2090</td>\n",
       "      <td>2019-02-13 11</td>\n",
       "      <td>0.254370</td>\n",
       "    </tr>\n",
       "    <tr>\n",
       "      <th>11</th>\n",
       "      <td>st-1a2090</td>\n",
       "      <td>2019-02-13 12</td>\n",
       "      <td>5.596832</td>\n",
       "    </tr>\n",
       "    <tr>\n",
       "      <th>12</th>\n",
       "      <td>st-1a2090</td>\n",
       "      <td>2019-02-13 13</td>\n",
       "      <td>11.056377</td>\n",
       "    </tr>\n",
       "    <tr>\n",
       "      <th>13</th>\n",
       "      <td>st-1a2090</td>\n",
       "      <td>2019-02-13 14</td>\n",
       "      <td>8.891611</td>\n",
       "    </tr>\n",
       "    <tr>\n",
       "      <th>14</th>\n",
       "      <td>st-1a2090</td>\n",
       "      <td>2019-02-13 15</td>\n",
       "      <td>7.324949</td>\n",
       "    </tr>\n",
       "    <tr>\n",
       "      <th>15</th>\n",
       "      <td>st-1a2090</td>\n",
       "      <td>2019-02-13 16</td>\n",
       "      <td>8.645100</td>\n",
       "    </tr>\n",
       "    <tr>\n",
       "      <th>16</th>\n",
       "      <td>st-1a2090</td>\n",
       "      <td>2019-02-13 17</td>\n",
       "      <td>9.112288</td>\n",
       "    </tr>\n",
       "    <tr>\n",
       "      <th>17</th>\n",
       "      <td>st-1a2090</td>\n",
       "      <td>2019-02-13 18</td>\n",
       "      <td>1.715034</td>\n",
       "    </tr>\n",
       "    <tr>\n",
       "      <th>18</th>\n",
       "      <td>st-1a2090</td>\n",
       "      <td>2019-02-13 19</td>\n",
       "      <td>0.293938</td>\n",
       "    </tr>\n",
       "    <tr>\n",
       "      <th>19</th>\n",
       "      <td>st-1a2090</td>\n",
       "      <td>2019-02-13 20</td>\n",
       "      <td>0.018777</td>\n",
       "    </tr>\n",
       "    <tr>\n",
       "      <th>20</th>\n",
       "      <td>st-1a2090</td>\n",
       "      <td>2019-02-13 21</td>\n",
       "      <td>0.015053</td>\n",
       "    </tr>\n",
       "    <tr>\n",
       "      <th>21</th>\n",
       "      <td>st-1a2090</td>\n",
       "      <td>2019-02-13 22</td>\n",
       "      <td>0.024481</td>\n",
       "    </tr>\n",
       "    <tr>\n",
       "      <th>22</th>\n",
       "      <td>st-1a2090</td>\n",
       "      <td>2019-02-13 23</td>\n",
       "      <td>0.031600</td>\n",
       "    </tr>\n",
       "  </tbody>\n",
       "</table>\n",
       "</div>"
      ],
      "text/plain": [
       "    device_id           hour      speed\n",
       "0        0001  2019-02-13 09   0.011667\n",
       "1        0001  2019-02-13 10   0.003333\n",
       "2        0001  2019-02-13 11   0.011630\n",
       "3        0001  2019-02-13 12   0.010591\n",
       "4        0001  2019-02-13 13   0.012800\n",
       "5        0001  2019-02-13 14   0.008848\n",
       "6        0001  2019-02-13 15   0.012530\n",
       "7        0001  2019-02-13 16   0.011339\n",
       "8   st-1a2090  2019-02-13 09   9.655000\n",
       "9   st-1a2090  2019-02-13 10   4.980900\n",
       "10  st-1a2090  2019-02-13 11   0.254370\n",
       "11  st-1a2090  2019-02-13 12   5.596832\n",
       "12  st-1a2090  2019-02-13 13  11.056377\n",
       "13  st-1a2090  2019-02-13 14   8.891611\n",
       "14  st-1a2090  2019-02-13 15   7.324949\n",
       "15  st-1a2090  2019-02-13 16   8.645100\n",
       "16  st-1a2090  2019-02-13 17   9.112288\n",
       "17  st-1a2090  2019-02-13 18   1.715034\n",
       "18  st-1a2090  2019-02-13 19   0.293938\n",
       "19  st-1a2090  2019-02-13 20   0.018777\n",
       "20  st-1a2090  2019-02-13 21   0.015053\n",
       "21  st-1a2090  2019-02-13 22   0.024481\n",
       "22  st-1a2090  2019-02-13 23   0.031600"
      ]
     },
     "execution_count": 14,
     "metadata": {},
     "output_type": "execute_result"
    }
   ],
   "source": [
    "def average_column_for_ships(df=df1,date='2019-02-13',column='speed'):\n",
    "    df[column]=df[column].astype('float')\n",
    "    return df[df['correct_date']==date][['speed','device_id','hour']].groupby(['device_id','hour']).mean(column).reset_index()\n",
    "df2_3=average_column_for_ships()\n",
    "df2_3"
   ]
  },
  {
   "cell_type": "code",
   "execution_count": 15,
   "metadata": {
    "ExecuteTime": {
     "end_time": "2021-01-23T13:09:12.017636Z",
     "start_time": "2021-01-23T13:09:12.002675Z"
    }
   },
   "outputs": [],
   "source": [
    "df2_3.to_csv('2.3_avg_speed.csv')"
   ]
  },
  {
   "cell_type": "markdown",
   "metadata": {},
   "source": [
    "## Exercise 3: Weather data "
   ]
  },
  {
   "cell_type": "code",
   "execution_count": 16,
   "metadata": {
    "ExecuteTime": {
     "end_time": "2021-01-23T13:09:12.061545Z",
     "start_time": "2021-01-23T13:09:12.021818Z"
    }
   },
   "outputs": [],
   "source": [
    "df_w=pd.read_json(DATA_WEATHER)"
   ]
  },
  {
   "cell_type": "code",
   "execution_count": 17,
   "metadata": {
    "ExecuteTime": {
     "end_time": "2021-01-23T13:09:12.903912Z",
     "start_time": "2021-01-23T13:09:12.067002Z"
    }
   },
   "outputs": [],
   "source": [
    "def flat_table_full_weather_conditions(df=df_w):\n",
    "    df_flat = pd.DataFrame()\n",
    "    for idx in range(len(df)):\n",
    "        temp_df = df[df.index == idx].reset_index()\n",
    "        temp_df_norm = pd.json_normalize(temp_df['data'][0])\n",
    "        df_flat = df_flat.append(\n",
    "            pd.merge(temp_df,\n",
    "                     temp_df_norm,\n",
    "                     how='outer',\n",
    "                     left_index=True,\n",
    "                     right_index=True).fillna(method='ffill'))\n",
    "    return df_flat.drop(columns=['index'])\n",
    "\n",
    "df_flat = flat_table_full_weather_conditions()"
   ]
  },
  {
   "cell_type": "code",
   "execution_count": 18,
   "metadata": {
    "ExecuteTime": {
     "end_time": "2021-01-23T13:09:13.193921Z",
     "start_time": "2021-01-23T13:09:12.907866Z"
    }
   },
   "outputs": [],
   "source": [
    "def round_time_nearest_hour(time):\n",
    "    y=datetime.fromtimestamp(time)\n",
    "    new_hour=y.hour+y.minute//30\n",
    "    if new_hour==24:\n",
    "        new_hour=0\n",
    "    return y.replace(hour=new_hour).replace(minute=0).replace(second=0)\n",
    "\n",
    "df1['nearest_hour']=df1['datetime'].apply(lambda x:round_time_nearest_hour(x))\n",
    "df_flat['nearest_hour']=df_flat['ts'].apply(lambda x:round_time_nearest_hour(x))"
   ]
  },
  {
   "cell_type": "code",
   "execution_count": 19,
   "metadata": {
    "ExecuteTime": {
     "end_time": "2021-01-23T13:09:13.272429Z",
     "start_time": "2021-01-23T13:09:13.197878Z"
    }
   },
   "outputs": [],
   "source": [
    "def round_gps(column,decimals=4):\n",
    "    return column.astype('float').round(decimals=decimals)\n",
    "\n",
    "df1['lat']=round_gps(df1['lat'])\n",
    "df1['lon']=round_gps(df1['lon'])\n",
    "df_flat['lat']=round_gps(df_flat['lat'])\n",
    "df_flat['lon']=round_gps(df_flat['lon'])"
   ]
  },
  {
   "cell_type": "code",
   "execution_count": 23,
   "metadata": {
    "ExecuteTime": {
     "end_time": "2021-01-23T13:09:42.758611Z",
     "start_time": "2021-01-23T13:09:42.050996Z"
    },
    "scrolled": true
   },
   "outputs": [
    {
     "data": {
      "text/html": [
       "<div>\n",
       "<style scoped>\n",
       "    .dataframe tbody tr th:only-of-type {\n",
       "        vertical-align: middle;\n",
       "    }\n",
       "\n",
       "    .dataframe tbody tr th {\n",
       "        vertical-align: top;\n",
       "    }\n",
       "\n",
       "    .dataframe thead th {\n",
       "        text-align: right;\n",
       "    }\n",
       "</style>\n",
       "<table border=\"1\" class=\"dataframe\">\n",
       "  <thead>\n",
       "    <tr style=\"text-align: right;\">\n",
       "      <th></th>\n",
       "      <th>device_id</th>\n",
       "      <th>datetime_x</th>\n",
       "      <th>address_ip</th>\n",
       "      <th>address_port</th>\n",
       "      <th>original_message_id</th>\n",
       "      <th>raw_message</th>\n",
       "      <th>status</th>\n",
       "      <th>lat</th>\n",
       "      <th>lat_dir</th>\n",
       "      <th>lon</th>\n",
       "      <th>...</th>\n",
       "      <th>dni</th>\n",
       "      <th>azimuth</th>\n",
       "      <th>datetime_y</th>\n",
       "      <th>temp</th>\n",
       "      <th>precip</th>\n",
       "      <th>clouds</th>\n",
       "      <th>ts</th>\n",
       "      <th>weather.icon</th>\n",
       "      <th>weather.code</th>\n",
       "      <th>weather.description</th>\n",
       "    </tr>\n",
       "  </thead>\n",
       "  <tbody>\n",
       "    <tr>\n",
       "      <th>28</th>\n",
       "      <td>st-1a2090</td>\n",
       "      <td>1550052436</td>\n",
       "      <td>172.23.0.1</td>\n",
       "      <td>4007</td>\n",
       "      <td>1550056036964-0</td>\n",
       "      <td>A,5$1.90%3500666&amp;6666@66*,N,5.5429625@,E,0.0,5...</td>\n",
       "      <td>A</td>\n",
       "      <td>51.9035</td>\n",
       "      <td>N</td>\n",
       "      <td>5.543</td>\n",
       "      <td>...</td>\n",
       "      <td>697.54</td>\n",
       "      <td>150.99</td>\n",
       "      <td>2019-02-13:10</td>\n",
       "      <td>3.7</td>\n",
       "      <td>0.0</td>\n",
       "      <td>88.0</td>\n",
       "      <td>1.550052e+09</td>\n",
       "      <td>c04d</td>\n",
       "      <td>804.0</td>\n",
       "      <td>Overcast clouds</td>\n",
       "    </tr>\n",
       "    <tr>\n",
       "      <th>29</th>\n",
       "      <td>st-1a2090</td>\n",
       "      <td>1550052437</td>\n",
       "      <td>172.23.0.1</td>\n",
       "      <td>4007</td>\n",
       "      <td>1550056037556-0</td>\n",
       "      <td>A,51.903500666666666,N,5.5429623333333335,E,0....</td>\n",
       "      <td>A</td>\n",
       "      <td>51.9035</td>\n",
       "      <td>N</td>\n",
       "      <td>5.543</td>\n",
       "      <td>...</td>\n",
       "      <td>697.54</td>\n",
       "      <td>150.99</td>\n",
       "      <td>2019-02-13:10</td>\n",
       "      <td>3.7</td>\n",
       "      <td>0.0</td>\n",
       "      <td>88.0</td>\n",
       "      <td>1.550052e+09</td>\n",
       "      <td>c04d</td>\n",
       "      <td>804.0</td>\n",
       "      <td>Overcast clouds</td>\n",
       "    </tr>\n",
       "    <tr>\n",
       "      <th>532</th>\n",
       "      <td>st-1a2090</td>\n",
       "      <td>1550052376</td>\n",
       "      <td>172.23.0.1</td>\n",
       "      <td>4007</td>\n",
       "      <td>1550055976972-0</td>\n",
       "      <td>A,5$1.90%3498,N,&amp;5.54@29*67833333333,@E,0.0,25...</td>\n",
       "      <td>A</td>\n",
       "      <td>51.9035</td>\n",
       "      <td>N</td>\n",
       "      <td>5.543</td>\n",
       "      <td>...</td>\n",
       "      <td>697.54</td>\n",
       "      <td>150.99</td>\n",
       "      <td>2019-02-13:10</td>\n",
       "      <td>3.7</td>\n",
       "      <td>0.0</td>\n",
       "      <td>88.0</td>\n",
       "      <td>1.550052e+09</td>\n",
       "      <td>c04d</td>\n",
       "      <td>804.0</td>\n",
       "      <td>Overcast clouds</td>\n",
       "    </tr>\n",
       "    <tr>\n",
       "      <th>533</th>\n",
       "      <td>st-1a2090</td>\n",
       "      <td>1550052383</td>\n",
       "      <td>172.23.0.1</td>\n",
       "      <td>4007</td>\n",
       "      <td>1550055983470-0</td>\n",
       "      <td>A,51.903498,N,5.542968833333333,E,0.0,249.97,1...</td>\n",
       "      <td>A</td>\n",
       "      <td>51.9035</td>\n",
       "      <td>N</td>\n",
       "      <td>5.543</td>\n",
       "      <td>...</td>\n",
       "      <td>697.54</td>\n",
       "      <td>150.99</td>\n",
       "      <td>2019-02-13:10</td>\n",
       "      <td>3.7</td>\n",
       "      <td>0.0</td>\n",
       "      <td>88.0</td>\n",
       "      <td>1.550052e+09</td>\n",
       "      <td>c04d</td>\n",
       "      <td>804.0</td>\n",
       "      <td>Overcast clouds</td>\n",
       "    </tr>\n",
       "    <tr>\n",
       "      <th>534</th>\n",
       "      <td>st-1a2090</td>\n",
       "      <td>1550052383</td>\n",
       "      <td>172.23.0.1</td>\n",
       "      <td>4007</td>\n",
       "      <td>1550055983976-0</td>\n",
       "      <td>A,51.903498,N,5.542968833333333,E,0.0,253.24,1...</td>\n",
       "      <td>A</td>\n",
       "      <td>51.9035</td>\n",
       "      <td>N</td>\n",
       "      <td>5.543</td>\n",
       "      <td>...</td>\n",
       "      <td>697.54</td>\n",
       "      <td>150.99</td>\n",
       "      <td>2019-02-13:10</td>\n",
       "      <td>3.7</td>\n",
       "      <td>0.0</td>\n",
       "      <td>88.0</td>\n",
       "      <td>1.550052e+09</td>\n",
       "      <td>c04d</td>\n",
       "      <td>804.0</td>\n",
       "      <td>Overcast clouds</td>\n",
       "    </tr>\n",
       "  </tbody>\n",
       "</table>\n",
       "<p>5 rows × 54 columns</p>\n",
       "</div>"
      ],
      "text/plain": [
       "     device_id  datetime_x  address_ip  address_port original_message_id  \\\n",
       "28   st-1a2090  1550052436  172.23.0.1          4007     1550056036964-0   \n",
       "29   st-1a2090  1550052437  172.23.0.1          4007     1550056037556-0   \n",
       "532  st-1a2090  1550052376  172.23.0.1          4007     1550055976972-0   \n",
       "533  st-1a2090  1550052383  172.23.0.1          4007     1550055983470-0   \n",
       "534  st-1a2090  1550052383  172.23.0.1          4007     1550055983976-0   \n",
       "\n",
       "                                           raw_message status      lat  \\\n",
       "28   A,5$1.90%3500666&6666@66*,N,5.5429625@,E,0.0,5...      A  51.9035   \n",
       "29   A,51.903500666666666,N,5.5429623333333335,E,0....      A  51.9035   \n",
       "532  A,5$1.90%3498,N,&5.54@29*67833333333,@E,0.0,25...      A  51.9035   \n",
       "533  A,51.903498,N,5.542968833333333,E,0.0,249.97,1...      A  51.9035   \n",
       "534  A,51.903498,N,5.542968833333333,E,0.0,253.24,1...      A  51.9035   \n",
       "\n",
       "    lat_dir    lon  ...     dni  azimuth     datetime_y temp precip clouds  \\\n",
       "28        N  5.543  ...  697.54   150.99  2019-02-13:10  3.7    0.0   88.0   \n",
       "29        N  5.543  ...  697.54   150.99  2019-02-13:10  3.7    0.0   88.0   \n",
       "532       N  5.543  ...  697.54   150.99  2019-02-13:10  3.7    0.0   88.0   \n",
       "533       N  5.543  ...  697.54   150.99  2019-02-13:10  3.7    0.0   88.0   \n",
       "534       N  5.543  ...  697.54   150.99  2019-02-13:10  3.7    0.0   88.0   \n",
       "\n",
       "               ts weather.icon weather.code weather.description  \n",
       "28   1.550052e+09         c04d        804.0     Overcast clouds  \n",
       "29   1.550052e+09         c04d        804.0     Overcast clouds  \n",
       "532  1.550052e+09         c04d        804.0     Overcast clouds  \n",
       "533  1.550052e+09         c04d        804.0     Overcast clouds  \n",
       "534  1.550052e+09         c04d        804.0     Overcast clouds  \n",
       "\n",
       "[5 rows x 54 columns]"
      ]
     },
     "execution_count": 23,
     "metadata": {},
     "output_type": "execute_result"
    }
   ],
   "source": [
    "def clean_join_input_data_with_flat_data(df1=df1, df2=df_flat, how='left', join_list=['lat', 'lon', 'nearest_hour']):\n",
    "    result = df1.merge(df2, how=how, on=join_list)\n",
    "    return result[~result.isna().any(axis=1)]\n",
    "\n",
    "clean_join_input_data_with_flat_data().head(5)"
   ]
  },
  {
   "cell_type": "markdown",
   "metadata": {},
   "source": [
    "## Exercise 4: SQL"
   ]
  },
  {
   "cell_type": "code",
   "execution_count": 21,
   "metadata": {
    "ExecuteTime": {
     "end_time": "2021-01-23T13:09:13.969338Z",
     "start_time": "2021-01-23T13:09:13.962358Z"
    }
   },
   "outputs": [],
   "source": [
    "import sqlite3 \n",
    "from sqlite3 import Error"
   ]
  },
  {
   "cell_type": "code",
   "execution_count": 22,
   "metadata": {
    "ExecuteTime": {
     "end_time": "2021-01-23T13:09:13.985295Z",
     "start_time": "2021-01-23T13:09:13.976321Z"
    }
   },
   "outputs": [],
   "source": [
    "def connect_to_db(db_file):\n",
    "    \"\"\"\n",
    "    Connect to an SQlite database, if db file does not exist it will be created\n",
    "    :param db_file: absolute or relative path of db file\n",
    "    :return: sqlite3 connection\n",
    "    \"\"\"\n",
    "    connection = None\n",
    "    \n",
    "    try:\n",
    "        connection = sqlite3.connect(db_file)\n",
    "        return connection\n",
    "\n",
    "    except Error as err:\n",
    "        print(err)\n",
    "\n",
    "        if connection is not None:\n",
    "            connection.close()"
   ]
  },
  {
   "cell_type": "code",
   "execution_count": 24,
   "metadata": {
    "ExecuteTime": {
     "end_time": "2021-01-23T13:09:47.936151Z",
     "start_time": "2021-01-23T13:09:47.155216Z"
    }
   },
   "outputs": [],
   "source": [
    "connection = connect_to_db(DB_FILE_PATH)\n",
    "\n",
    "with connection as connection:\n",
    "    df1.to_sql(name='ex4', con=connection, if_exists='replace', index=False)\n",
    "    df2_2.to_sql(name='df2_2', con=connection, if_exists='replace', index=False)\n",
    "    df2_3.to_sql(name='df2_3', con=connection, if_exists='replace', index=False)"
   ]
  },
  {
   "cell_type": "markdown",
   "metadata": {},
   "source": [
    "## Bonus Exercise "
   ]
  },
  {
   "cell_type": "code",
   "execution_count": 2,
   "metadata": {
    "ExecuteTime": {
     "end_time": "2021-01-23T20:14:14.593781Z",
     "start_time": "2021-01-23T20:14:04.455282Z"
    },
    "collapsed": true
   },
   "outputs": [
    {
     "name": "stdout",
     "output_type": "stream",
     "text": [
      "Collecting uvicorn\n",
      "  Using cached uvicorn-0.13.3-py3-none-any.whl (45 kB)\n",
      "Requirement already satisfied: click==7.* in c:\\programdata\\anaconda3\\lib\\site-packages (from uvicorn) (7.0)\n",
      "Collecting h11>=0.8\n",
      "  Using cached h11-0.12.0-py3-none-any.whl (54 kB)\n",
      "Requirement already satisfied: typing-extensions; python_version < \"3.8\" in c:\\programdata\\anaconda3\\lib\\site-packages (from uvicorn) (3.7.4.2)\n",
      "Installing collected packages: h11, uvicorn\n",
      "Successfully installed h11-0.12.0 uvicorn-0.13.3\n"
     ]
    }
   ],
   "source": [
    "#!pip install fastapi\n",
    "# !pip install uvicorn"
   ]
  },
  {
   "cell_type": "code",
   "execution_count": 28,
   "metadata": {
    "ExecuteTime": {
     "end_time": "2021-01-23T16:41:22.167221Z",
     "start_time": "2021-01-23T16:41:21.940580Z"
    }
   },
   "outputs": [],
   "source": [
    "from fastapi import FastAPI\n",
    "app = FastAPI()\n",
    "@app.get(\"/\")\n",
    "def read_root():\n",
    "    return {\"Hello\": \"World\"}\n",
    "@app.get(\"/items/{item_id}\")\n",
    "def read_item(item_id: int, q: str = None):\n",
    "    return {\"item_id\": item_id, \"q\": q}"
   ]
  }
 ],
 "metadata": {
  "hide_input": false,
  "kernelspec": {
   "display_name": "Python 3",
   "language": "python",
   "name": "python3"
  },
  "language_info": {
   "codemirror_mode": {
    "name": "ipython",
    "version": 3
   },
   "file_extension": ".py",
   "mimetype": "text/x-python",
   "name": "python",
   "nbconvert_exporter": "python",
   "pygments_lexer": "ipython3",
   "version": "3.7.6"
  },
  "varInspector": {
   "cols": {
    "lenName": 16,
    "lenType": 16,
    "lenVar": 40
   },
   "kernels_config": {
    "python": {
     "delete_cmd_postfix": "",
     "delete_cmd_prefix": "del ",
     "library": "var_list.py",
     "varRefreshCmd": "print(var_dic_list())"
    },
    "r": {
     "delete_cmd_postfix": ") ",
     "delete_cmd_prefix": "rm(",
     "library": "var_list.r",
     "varRefreshCmd": "cat(var_dic_list()) "
    }
   },
   "types_to_exclude": [
    "module",
    "function",
    "builtin_function_or_method",
    "instance",
    "_Feature"
   ],
   "window_display": false
  }
 },
 "nbformat": 4,
 "nbformat_minor": 4
}
