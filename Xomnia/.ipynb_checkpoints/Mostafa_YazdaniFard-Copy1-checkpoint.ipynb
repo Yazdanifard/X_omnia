{
 "cells": [
  {
   "cell_type": "code",
   "execution_count": 1,
   "metadata": {
    "ExecuteTime": {
     "end_time": "2021-01-23T10:11:30.138054Z",
     "start_time": "2021-01-23T10:11:29.632144Z"
    }
   },
   "outputs": [],
   "source": [
    "import pandas as pd\n",
    "import re\n",
    "import json\n",
    "from collections import Counter\n",
    "from datetime import datetime\n",
    "from pandas.io.json import json_normalize\n",
    "\n",
    "DATA_CLEAN_MESSAGES='clean_messages.csv'\n",
    "DATA_RAW_MESSAGES='raw_messages.csv'\n",
    "DATA_WEATHER='weather_data.json'\n",
    "EXPANDED_COLUMNS_NAME=['status','lat','lat_dir','lon','lon_dir','speed','track_degrees','date','mag_var','mag_var_dir']\n"
   ]
  },
  {
   "cell_type": "code",
   "execution_count": 2,
   "metadata": {
    "ExecuteTime": {
     "end_time": "2021-01-23T10:11:30.341179Z",
     "start_time": "2021-01-23T10:11:30.144076Z"
    }
   },
   "outputs": [],
   "source": [
    "df_rm=pd.read_csv(DATA_RAW_MESSAGES).rename(columns={'\\tdevice_id':'device_id'})"
   ]
  },
  {
   "cell_type": "markdown",
   "metadata": {},
   "source": [
    "### Exercise 1: reading the input data "
   ]
  },
  {
   "cell_type": "code",
   "execution_count": 3,
   "metadata": {
    "ExecuteTime": {
     "end_time": "2021-01-23T10:11:30.524891Z",
     "start_time": "2021-01-23T10:11:30.345421Z"
    }
   },
   "outputs": [
    {
     "data": {
      "text/plain": [
       "['%', '&', '*', '@', '$']"
      ]
     },
     "execution_count": 3,
     "metadata": {},
     "output_type": "execute_result"
    }
   ],
   "source": [
    "def unwanted_chars_from_column(df_coulmn=df_rm['raw_message'],regex_allowed_chars=\"[^0-9a-zA-Z,.]\"):\n",
    "    df_unwanted_chars=df_coulmn.apply(lambda x: (re.findall(regex_allowed_chars, x)))\n",
    "    unique_list_unwanted_chars=list(set([' '.join(y) for x in df_unwanted_chars for y in x]))\n",
    "    return unique_list_unwanted_chars\n",
    "unwanted_chars=unwanted_chars_from_column()\n",
    "unwanted_chars"
   ]
  },
  {
   "cell_type": "code",
   "execution_count": 4,
   "metadata": {
    "ExecuteTime": {
     "end_time": "2021-01-23T10:11:30.728421Z",
     "start_time": "2021-01-23T10:11:30.530228Z"
    }
   },
   "outputs": [],
   "source": [
    "def expand_column_with_delimiter(column=df_rm['raw_message'],\n",
    "                                 delimiter=',',\n",
    "                                 expand=True,\n",
    "                                 new_columns_names=EXPANDED_COLUMNS_NAME):\n",
    "    col_names = dict(zip(range(0, len(new_columns_names)), new_columns_names))\n",
    "    return column.str.split(delimiter,expand=expand).rename(columns=col_names)\n",
    "\n",
    "expand_column_with_delimiter();"
   ]
  },
  {
   "cell_type": "code",
   "execution_count": 5,
   "metadata": {
    "ExecuteTime": {
     "end_time": "2021-01-23T10:11:30.908748Z",
     "start_time": "2021-01-23T10:11:30.731419Z"
    }
   },
   "outputs": [],
   "source": [
    "def concat_main_df_with_expanded_columns(df1,df2):\n",
    "    return pd.concat([df1,df2],axis=1)\n",
    "df_rm=concat_main_df_with_expanded_columns(df_rm,expand_column_with_delimiter());"
   ]
  },
  {
   "cell_type": "code",
   "execution_count": 6,
   "metadata": {
    "ExecuteTime": {
     "end_time": "2021-01-23T10:11:32.091930Z",
     "start_time": "2021-01-23T10:11:30.912488Z"
    },
    "cell_style": "center"
   },
   "outputs": [
    {
     "data": {
      "text/html": [
       "<div>\n",
       "<style scoped>\n",
       "    .dataframe tbody tr th:only-of-type {\n",
       "        vertical-align: middle;\n",
       "    }\n",
       "\n",
       "    .dataframe tbody tr th {\n",
       "        vertical-align: top;\n",
       "    }\n",
       "\n",
       "    .dataframe thead th {\n",
       "        text-align: right;\n",
       "    }\n",
       "</style>\n",
       "<table border=\"1\" class=\"dataframe\">\n",
       "  <thead>\n",
       "    <tr style=\"text-align: right;\">\n",
       "      <th></th>\n",
       "      <th>device_id</th>\n",
       "      <th>datetime</th>\n",
       "      <th>address_ip</th>\n",
       "      <th>address_port</th>\n",
       "      <th>original_message_id</th>\n",
       "      <th>raw_message</th>\n",
       "      <th>status</th>\n",
       "      <th>lat</th>\n",
       "      <th>lat_dir</th>\n",
       "      <th>lon</th>\n",
       "      <th>lon_dir</th>\n",
       "      <th>speed</th>\n",
       "      <th>track_degrees</th>\n",
       "      <th>date</th>\n",
       "      <th>mag_var</th>\n",
       "      <th>mag_var_dir</th>\n",
       "    </tr>\n",
       "  </thead>\n",
       "  <tbody>\n",
       "    <tr>\n",
       "      <th>0</th>\n",
       "      <td>0001</td>\n",
       "      <td>1550066999</td>\n",
       "      <td>172.19.0.17</td>\n",
       "      <td>4007</td>\n",
       "      <td>1550070599576-0</td>\n",
       "      <td>A,5$1.31%8308166&amp;6666@7,*N,4.31572216@6666666,...</td>\n",
       "      <td>A</td>\n",
       "      <td>51.31830816666667</td>\n",
       "      <td>N</td>\n",
       "      <td>4.315722166666666</td>\n",
       "      <td>E</td>\n",
       "      <td>0.0</td>\n",
       "      <td>1.59</td>\n",
       "      <td>150218</td>\n",
       "      <td>0.8</td>\n",
       "      <td>E</td>\n",
       "    </tr>\n",
       "    <tr>\n",
       "      <th>1</th>\n",
       "      <td>0001</td>\n",
       "      <td>1550067661</td>\n",
       "      <td>172.19.0.16</td>\n",
       "      <td>4007</td>\n",
       "      <td>1550071261429-0</td>\n",
       "      <td>A,5$1.31%8308166&amp;6666@7,*N,4.31572216@6666666,...</td>\n",
       "      <td>A</td>\n",
       "      <td>51.31830816666667</td>\n",
       "      <td>N</td>\n",
       "      <td>4.315722166666666</td>\n",
       "      <td>E</td>\n",
       "      <td>0.0</td>\n",
       "      <td>1.59</td>\n",
       "      <td>150218</td>\n",
       "      <td>0.8</td>\n",
       "      <td>E</td>\n",
       "    </tr>\n",
       "    <tr>\n",
       "      <th>2</th>\n",
       "      <td>0001</td>\n",
       "      <td>1550067048</td>\n",
       "      <td>172.19.0.17</td>\n",
       "      <td>4007</td>\n",
       "      <td>1550070648974-0</td>\n",
       "      <td>A,51.3183085,N,4.315720833333334,E,0.0,5.25,15...</td>\n",
       "      <td>A</td>\n",
       "      <td>51.3183085</td>\n",
       "      <td>N</td>\n",
       "      <td>4.315720833333334</td>\n",
       "      <td>E</td>\n",
       "      <td>0.0</td>\n",
       "      <td>5.25</td>\n",
       "      <td>150218</td>\n",
       "      <td>0.8</td>\n",
       "      <td>E</td>\n",
       "    </tr>\n",
       "    <tr>\n",
       "      <th>3</th>\n",
       "      <td>0001</td>\n",
       "      <td>1550069034</td>\n",
       "      <td>172.19.0.16</td>\n",
       "      <td>4007</td>\n",
       "      <td>1550072634730-0</td>\n",
       "      <td>A,51.3183085,N,4.315720833333334,E,0.0,5.25,15...</td>\n",
       "      <td>A</td>\n",
       "      <td>51.3183085</td>\n",
       "      <td>N</td>\n",
       "      <td>4.315720833333334</td>\n",
       "      <td>E</td>\n",
       "      <td>0.0</td>\n",
       "      <td>5.25</td>\n",
       "      <td>150218</td>\n",
       "      <td>0.8</td>\n",
       "      <td>E</td>\n",
       "    </tr>\n",
       "    <tr>\n",
       "      <th>4</th>\n",
       "      <td>0001</td>\n",
       "      <td>1550069696</td>\n",
       "      <td>172.19.0.16</td>\n",
       "      <td>4007</td>\n",
       "      <td>1550073296534-0</td>\n",
       "      <td>A,51.3183085,N,4.315720833333334,E,0.0,5.25,15...</td>\n",
       "      <td>A</td>\n",
       "      <td>51.3183085</td>\n",
       "      <td>N</td>\n",
       "      <td>4.315720833333334</td>\n",
       "      <td>E</td>\n",
       "      <td>0.0</td>\n",
       "      <td>5.25</td>\n",
       "      <td>150218</td>\n",
       "      <td>0.8</td>\n",
       "      <td>E</td>\n",
       "    </tr>\n",
       "  </tbody>\n",
       "</table>\n",
       "</div>"
      ],
      "text/plain": [
       "  device_id    datetime   address_ip  address_port original_message_id  \\\n",
       "0      0001  1550066999  172.19.0.17          4007     1550070599576-0   \n",
       "1      0001  1550067661  172.19.0.16          4007     1550071261429-0   \n",
       "2      0001  1550067048  172.19.0.17          4007     1550070648974-0   \n",
       "3      0001  1550069034  172.19.0.16          4007     1550072634730-0   \n",
       "4      0001  1550069696  172.19.0.16          4007     1550073296534-0   \n",
       "\n",
       "                                         raw_message status  \\\n",
       "0  A,5$1.31%8308166&6666@7,*N,4.31572216@6666666,...      A   \n",
       "1  A,5$1.31%8308166&6666@7,*N,4.31572216@6666666,...      A   \n",
       "2  A,51.3183085,N,4.315720833333334,E,0.0,5.25,15...      A   \n",
       "3  A,51.3183085,N,4.315720833333334,E,0.0,5.25,15...      A   \n",
       "4  A,51.3183085,N,4.315720833333334,E,0.0,5.25,15...      A   \n",
       "\n",
       "                 lat lat_dir                lon lon_dir speed track_degrees  \\\n",
       "0  51.31830816666667       N  4.315722166666666       E   0.0          1.59   \n",
       "1  51.31830816666667       N  4.315722166666666       E   0.0          1.59   \n",
       "2         51.3183085       N  4.315720833333334       E   0.0          5.25   \n",
       "3         51.3183085       N  4.315720833333334       E   0.0          5.25   \n",
       "4         51.3183085       N  4.315720833333334       E   0.0          5.25   \n",
       "\n",
       "     date mag_var mag_var_dir  \n",
       "0  150218     0.8           E  \n",
       "1  150218     0.8           E  \n",
       "2  150218     0.8           E  \n",
       "3  150218     0.8           E  \n",
       "4  150218     0.8           E  "
      ]
     },
     "execution_count": 6,
     "metadata": {},
     "output_type": "execute_result"
    }
   ],
   "source": [
    "def replace_unwatned_characters(df=df_rm,columns_names=EXPANDED_COLUMNS_NAME):\n",
    "    df_rm[columns_names]=df_rm[columns_names].replace(regex=str([x for x in unwanted_chars]), value='')\n",
    "    return df_rm\n",
    "df1=replace_unwatned_characters()\n",
    "df1.head(5)"
   ]
  },
  {
   "cell_type": "markdown",
   "metadata": {
    "cell_style": "center"
   },
   "source": [
    "## Exercise 2: calculating metrics "
   ]
  },
  {
   "cell_type": "markdown",
   "metadata": {},
   "source": [
    "### 2.1 "
   ]
  },
  {
   "cell_type": "code",
   "execution_count": 7,
   "metadata": {
    "ExecuteTime": {
     "end_time": "2021-01-23T10:11:32.122261Z",
     "start_time": "2021-01-23T10:11:32.096914Z"
    }
   },
   "outputs": [
    {
     "data": {
      "text/plain": [
       "Counter({'0001': 4110, 'st-1a2090': 23718, '1': 1226})"
      ]
     },
     "execution_count": 7,
     "metadata": {},
     "output_type": "execute_result"
    }
   ],
   "source": [
    "## Check the number of rows for each deivce_id\n",
    "Counter(df1['device_id'])"
   ]
  },
  {
   "cell_type": "markdown",
   "metadata": {
    "ExecuteTime": {
     "end_time": "2021-01-22T16:32:57.933328Z",
     "start_time": "2021-01-22T16:32:57.927344Z"
    }
   },
   "source": [
    "It seems that the device_id of '1' should be the same as '0001'. For any reason, the zeros before 1 are dropped.\n",
    "We investigate possibilities. If they have the common IP addresses, our assumption could be correct. However, the more domain knowledge of how this data is collected, could be very helpful\n"
   ]
  },
  {
   "cell_type": "code",
   "execution_count": 8,
   "metadata": {
    "ExecuteTime": {
     "end_time": "2021-01-23T10:11:32.157808Z",
     "start_time": "2021-01-23T10:11:32.132816Z"
    }
   },
   "outputs": [
    {
     "data": {
      "text/plain": [
       "(['172.18.0.14',\n",
       "  '172.18.0.15',\n",
       "  '172.18.0.17',\n",
       "  '172.19.0.11',\n",
       "  '172.19.0.15',\n",
       "  '172.19.0.16',\n",
       "  '172.19.0.17'],\n",
       " ['172.18.0.14',\n",
       "  '172.18.0.17',\n",
       "  '172.19.0.11',\n",
       "  '172.19.0.15',\n",
       "  '172.19.0.16',\n",
       "  '172.19.0.17'])"
      ]
     },
     "execution_count": 8,
     "metadata": {},
     "output_type": "execute_result"
    }
   ],
   "source": [
    "address_ip_0001=df1[df1['device_id']=='0001']['address_ip'].unique() \n",
    "address_ip_1=df1[df1['device_id']=='1']['address_ip'].unique()\n",
    "sorted(address_ip_0001),sorted(address_ip_1)"
   ]
  },
  {
   "cell_type": "markdown",
   "metadata": {},
   "source": [
    "Based on the result, just the ip '172.18.0.15' is not in address_ip_1. It could be defected for any reasons. As a result, we have two ships and we should change device_id=1 to 0001."
   ]
  },
  {
   "cell_type": "code",
   "execution_count": 9,
   "metadata": {
    "ExecuteTime": {
     "end_time": "2021-01-23T10:11:32.194977Z",
     "start_time": "2021-01-23T10:11:32.164828Z"
    }
   },
   "outputs": [
    {
     "data": {
      "text/plain": [
       "Counter({'0001': 5336, 'st-1a2090': 23718})"
      ]
     },
     "execution_count": 9,
     "metadata": {},
     "output_type": "execute_result"
    }
   ],
   "source": [
    "df1['device_id']=df1['device_id'].replace('1','0001')\n",
    "Counter(df1['device_id'])"
   ]
  },
  {
   "cell_type": "markdown",
   "metadata": {},
   "source": [
    "**we have two ships: 0001 & st-1a2090**"
   ]
  },
  {
   "cell_type": "markdown",
   "metadata": {
    "ExecuteTime": {
     "end_time": "2021-01-22T16:44:02.234356Z",
     "start_time": "2021-01-22T16:44:02.230365Z"
    }
   },
   "source": [
    "### 2.2"
   ]
  },
  {
   "cell_type": "code",
   "execution_count": 10,
   "metadata": {
    "ExecuteTime": {
     "end_time": "2021-01-23T10:11:32.528735Z",
     "start_time": "2021-01-23T10:11:32.198900Z"
    }
   },
   "outputs": [],
   "source": [
    "#  %H:%M:%S\n",
    "def create_time_column(df=df1,col_name='hour',time='%Y-%m-%d %H'):\n",
    "    df[col_name]= df['datetime'].apply(lambda  x: datetime.fromtimestamp(x).strftime(time))\n",
    "    return df\n",
    "df=create_time_column()"
   ]
  },
  {
   "cell_type": "code",
   "execution_count": 11,
   "metadata": {
    "ExecuteTime": {
     "end_time": "2021-01-23T10:11:32.821985Z",
     "start_time": "2021-01-23T10:11:32.532637Z"
    }
   },
   "outputs": [],
   "source": [
    "def create_correct_date_column(df=df1,col_name='correct_date'):\n",
    "    df[col_name]=df['datetime'].apply(lambda  x: datetime.fromtimestamp(x).strftime('%Y-%m-%d'))\n",
    "    return df\n",
    "df=create_correct_date_column()"
   ]
  },
  {
   "cell_type": "code",
   "execution_count": 12,
   "metadata": {
    "ExecuteTime": {
     "end_time": "2021-01-23T10:11:32.925753Z",
     "start_time": "2021-01-23T10:11:32.824969Z"
    }
   },
   "outputs": [
    {
     "data": {
      "text/html": [
       "<div>\n",
       "<style scoped>\n",
       "    .dataframe tbody tr th:only-of-type {\n",
       "        vertical-align: middle;\n",
       "    }\n",
       "\n",
       "    .dataframe tbody tr th {\n",
       "        vertical-align: top;\n",
       "    }\n",
       "\n",
       "    .dataframe thead th {\n",
       "        text-align: right;\n",
       "    }\n",
       "</style>\n",
       "<table border=\"1\" class=\"dataframe\">\n",
       "  <thead>\n",
       "    <tr style=\"text-align: right;\">\n",
       "      <th></th>\n",
       "      <th>correct_date</th>\n",
       "      <th>max_speed</th>\n",
       "      <th>min_speed</th>\n",
       "    </tr>\n",
       "  </thead>\n",
       "  <tbody>\n",
       "    <tr>\n",
       "      <th>0</th>\n",
       "      <td>2019-02-10</td>\n",
       "      <td>4.97</td>\n",
       "      <td>4.95</td>\n",
       "    </tr>\n",
       "    <tr>\n",
       "      <th>1</th>\n",
       "      <td>2019-02-11</td>\n",
       "      <td>1.49</td>\n",
       "      <td>0.00</td>\n",
       "    </tr>\n",
       "    <tr>\n",
       "      <th>2</th>\n",
       "      <td>2019-02-12</td>\n",
       "      <td>0.02</td>\n",
       "      <td>0.00</td>\n",
       "    </tr>\n",
       "    <tr>\n",
       "      <th>3</th>\n",
       "      <td>2019-02-13</td>\n",
       "      <td>11.50</td>\n",
       "      <td>0.00</td>\n",
       "    </tr>\n",
       "    <tr>\n",
       "      <th>4</th>\n",
       "      <td>2019-02-14</td>\n",
       "      <td>9.37</td>\n",
       "      <td>0.00</td>\n",
       "    </tr>\n",
       "  </tbody>\n",
       "</table>\n",
       "</div>"
      ],
      "text/plain": [
       "  correct_date  max_speed  min_speed\n",
       "0   2019-02-10       4.97       4.95\n",
       "1   2019-02-11       1.49       0.00\n",
       "2   2019-02-12       0.02       0.00\n",
       "3   2019-02-13      11.50       0.00\n",
       "4   2019-02-14       9.37       0.00"
      ]
     },
     "execution_count": 12,
     "metadata": {},
     "output_type": "execute_result"
    }
   ],
   "source": [
    "def min_max_column_over_day(df=df1,ship_id='st-1a2090',column='speed',date='correct_date'):\n",
    "    df[column]=df[column].astype('float')\n",
    "    groupby_df=df[df['device_id']==ship_id][['device_id',date,column]].groupby([date])\n",
    "    maximum=groupby_df.max(column).rename(columns={column:str('max_'+column)}).reset_index()\n",
    "    minimum=groupby_df.min(column).rename(columns={'speed':str('min_'+column)}).reset_index()\n",
    "    return maximum.merge(minimum[[date,str('min_'+column)]],on=date)\n",
    "min_max_column_over_day()"
   ]
  },
  {
   "cell_type": "code",
   "execution_count": 13,
   "metadata": {
    "ExecuteTime": {
     "end_time": "2021-01-23T10:11:32.979781Z",
     "start_time": "2021-01-23T10:11:32.928708Z"
    }
   },
   "outputs": [],
   "source": [
    "min_max_column_over_day().to_csv('2.2_max_min_speed.csv')"
   ]
  },
  {
   "cell_type": "markdown",
   "metadata": {
    "ExecuteTime": {
     "end_time": "2021-01-22T17:48:56.469970Z",
     "start_time": "2021-01-22T17:48:56.465996Z"
    }
   },
   "source": [
    "### 2.3"
   ]
  },
  {
   "cell_type": "code",
   "execution_count": 14,
   "metadata": {
    "ExecuteTime": {
     "end_time": "2021-01-23T10:11:33.050041Z",
     "start_time": "2021-01-23T10:11:32.982726Z"
    }
   },
   "outputs": [
    {
     "data": {
      "text/html": [
       "<div>\n",
       "<style scoped>\n",
       "    .dataframe tbody tr th:only-of-type {\n",
       "        vertical-align: middle;\n",
       "    }\n",
       "\n",
       "    .dataframe tbody tr th {\n",
       "        vertical-align: top;\n",
       "    }\n",
       "\n",
       "    .dataframe thead th {\n",
       "        text-align: right;\n",
       "    }\n",
       "</style>\n",
       "<table border=\"1\" class=\"dataframe\">\n",
       "  <thead>\n",
       "    <tr style=\"text-align: right;\">\n",
       "      <th></th>\n",
       "      <th>device_id</th>\n",
       "      <th>hour</th>\n",
       "      <th>speed</th>\n",
       "    </tr>\n",
       "  </thead>\n",
       "  <tbody>\n",
       "    <tr>\n",
       "      <th>0</th>\n",
       "      <td>0001</td>\n",
       "      <td>2019-02-13 09</td>\n",
       "      <td>0.011667</td>\n",
       "    </tr>\n",
       "    <tr>\n",
       "      <th>1</th>\n",
       "      <td>0001</td>\n",
       "      <td>2019-02-13 10</td>\n",
       "      <td>0.003333</td>\n",
       "    </tr>\n",
       "    <tr>\n",
       "      <th>2</th>\n",
       "      <td>0001</td>\n",
       "      <td>2019-02-13 11</td>\n",
       "      <td>0.011630</td>\n",
       "    </tr>\n",
       "    <tr>\n",
       "      <th>3</th>\n",
       "      <td>0001</td>\n",
       "      <td>2019-02-13 12</td>\n",
       "      <td>0.010591</td>\n",
       "    </tr>\n",
       "    <tr>\n",
       "      <th>4</th>\n",
       "      <td>0001</td>\n",
       "      <td>2019-02-13 13</td>\n",
       "      <td>0.012800</td>\n",
       "    </tr>\n",
       "    <tr>\n",
       "      <th>5</th>\n",
       "      <td>0001</td>\n",
       "      <td>2019-02-13 14</td>\n",
       "      <td>0.008848</td>\n",
       "    </tr>\n",
       "    <tr>\n",
       "      <th>6</th>\n",
       "      <td>0001</td>\n",
       "      <td>2019-02-13 15</td>\n",
       "      <td>0.012530</td>\n",
       "    </tr>\n",
       "    <tr>\n",
       "      <th>7</th>\n",
       "      <td>0001</td>\n",
       "      <td>2019-02-13 16</td>\n",
       "      <td>0.011339</td>\n",
       "    </tr>\n",
       "    <tr>\n",
       "      <th>8</th>\n",
       "      <td>st-1a2090</td>\n",
       "      <td>2019-02-13 09</td>\n",
       "      <td>9.655000</td>\n",
       "    </tr>\n",
       "    <tr>\n",
       "      <th>9</th>\n",
       "      <td>st-1a2090</td>\n",
       "      <td>2019-02-13 10</td>\n",
       "      <td>4.980900</td>\n",
       "    </tr>\n",
       "    <tr>\n",
       "      <th>10</th>\n",
       "      <td>st-1a2090</td>\n",
       "      <td>2019-02-13 11</td>\n",
       "      <td>0.254370</td>\n",
       "    </tr>\n",
       "    <tr>\n",
       "      <th>11</th>\n",
       "      <td>st-1a2090</td>\n",
       "      <td>2019-02-13 12</td>\n",
       "      <td>5.596832</td>\n",
       "    </tr>\n",
       "    <tr>\n",
       "      <th>12</th>\n",
       "      <td>st-1a2090</td>\n",
       "      <td>2019-02-13 13</td>\n",
       "      <td>11.056377</td>\n",
       "    </tr>\n",
       "    <tr>\n",
       "      <th>13</th>\n",
       "      <td>st-1a2090</td>\n",
       "      <td>2019-02-13 14</td>\n",
       "      <td>8.891611</td>\n",
       "    </tr>\n",
       "    <tr>\n",
       "      <th>14</th>\n",
       "      <td>st-1a2090</td>\n",
       "      <td>2019-02-13 15</td>\n",
       "      <td>7.324949</td>\n",
       "    </tr>\n",
       "    <tr>\n",
       "      <th>15</th>\n",
       "      <td>st-1a2090</td>\n",
       "      <td>2019-02-13 16</td>\n",
       "      <td>8.645100</td>\n",
       "    </tr>\n",
       "    <tr>\n",
       "      <th>16</th>\n",
       "      <td>st-1a2090</td>\n",
       "      <td>2019-02-13 17</td>\n",
       "      <td>9.112288</td>\n",
       "    </tr>\n",
       "    <tr>\n",
       "      <th>17</th>\n",
       "      <td>st-1a2090</td>\n",
       "      <td>2019-02-13 18</td>\n",
       "      <td>1.715034</td>\n",
       "    </tr>\n",
       "    <tr>\n",
       "      <th>18</th>\n",
       "      <td>st-1a2090</td>\n",
       "      <td>2019-02-13 19</td>\n",
       "      <td>0.293938</td>\n",
       "    </tr>\n",
       "    <tr>\n",
       "      <th>19</th>\n",
       "      <td>st-1a2090</td>\n",
       "      <td>2019-02-13 20</td>\n",
       "      <td>0.018777</td>\n",
       "    </tr>\n",
       "    <tr>\n",
       "      <th>20</th>\n",
       "      <td>st-1a2090</td>\n",
       "      <td>2019-02-13 21</td>\n",
       "      <td>0.015053</td>\n",
       "    </tr>\n",
       "    <tr>\n",
       "      <th>21</th>\n",
       "      <td>st-1a2090</td>\n",
       "      <td>2019-02-13 22</td>\n",
       "      <td>0.024481</td>\n",
       "    </tr>\n",
       "    <tr>\n",
       "      <th>22</th>\n",
       "      <td>st-1a2090</td>\n",
       "      <td>2019-02-13 23</td>\n",
       "      <td>0.031600</td>\n",
       "    </tr>\n",
       "  </tbody>\n",
       "</table>\n",
       "</div>"
      ],
      "text/plain": [
       "    device_id           hour      speed\n",
       "0        0001  2019-02-13 09   0.011667\n",
       "1        0001  2019-02-13 10   0.003333\n",
       "2        0001  2019-02-13 11   0.011630\n",
       "3        0001  2019-02-13 12   0.010591\n",
       "4        0001  2019-02-13 13   0.012800\n",
       "5        0001  2019-02-13 14   0.008848\n",
       "6        0001  2019-02-13 15   0.012530\n",
       "7        0001  2019-02-13 16   0.011339\n",
       "8   st-1a2090  2019-02-13 09   9.655000\n",
       "9   st-1a2090  2019-02-13 10   4.980900\n",
       "10  st-1a2090  2019-02-13 11   0.254370\n",
       "11  st-1a2090  2019-02-13 12   5.596832\n",
       "12  st-1a2090  2019-02-13 13  11.056377\n",
       "13  st-1a2090  2019-02-13 14   8.891611\n",
       "14  st-1a2090  2019-02-13 15   7.324949\n",
       "15  st-1a2090  2019-02-13 16   8.645100\n",
       "16  st-1a2090  2019-02-13 17   9.112288\n",
       "17  st-1a2090  2019-02-13 18   1.715034\n",
       "18  st-1a2090  2019-02-13 19   0.293938\n",
       "19  st-1a2090  2019-02-13 20   0.018777\n",
       "20  st-1a2090  2019-02-13 21   0.015053\n",
       "21  st-1a2090  2019-02-13 22   0.024481\n",
       "22  st-1a2090  2019-02-13 23   0.031600"
      ]
     },
     "execution_count": 14,
     "metadata": {},
     "output_type": "execute_result"
    }
   ],
   "source": [
    "def average_column_for_ships(df=df1,date='2019-02-13',column='speed'):\n",
    "    df[column]=df[column].astype('float')\n",
    "    return df[df['correct_date']==date][['speed','device_id','hour']].groupby(['device_id','hour']).mean(column).reset_index()\n",
    "average_column_for_ships()"
   ]
  },
  {
   "cell_type": "code",
   "execution_count": 15,
   "metadata": {
    "ExecuteTime": {
     "end_time": "2021-01-23T10:11:33.097907Z",
     "start_time": "2021-01-23T10:11:33.052996Z"
    }
   },
   "outputs": [],
   "source": [
    "average_column_for_ships().to_csv('2.3_avg_speed.csv')"
   ]
  },
  {
   "cell_type": "markdown",
   "metadata": {},
   "source": [
    "## Exercise 3: Weather data "
   ]
  },
  {
   "cell_type": "code",
   "execution_count": 16,
   "metadata": {
    "ExecuteTime": {
     "end_time": "2021-01-23T10:11:33.142288Z",
     "start_time": "2021-01-23T10:11:33.100869Z"
    }
   },
   "outputs": [],
   "source": [
    "df_w=pd.read_json(DATA_WEATHER)"
   ]
  },
  {
   "cell_type": "code",
   "execution_count": 17,
   "metadata": {
    "ExecuteTime": {
     "end_time": "2021-01-23T10:11:33.790866Z",
     "start_time": "2021-01-23T10:11:33.146147Z"
    }
   },
   "outputs": [],
   "source": [
    "def flat_table_full_weather_conditions(df=df_w):\n",
    "    df_flat = pd.DataFrame()\n",
    "    for idx in range(len(df)):\n",
    "        temp_df = df[df.index == idx].reset_index()\n",
    "        temp_df_norm = pd.json_normalize(temp_df['data'][0])\n",
    "        df_flat = df_flat.append(\n",
    "            pd.merge(temp_df,\n",
    "                     temp_df_norm,\n",
    "                     how='outer',\n",
    "                     left_index=True,\n",
    "                     right_index=True).fillna(method='ffill'))\n",
    "    return df_flat.drop(columns=['index'])\n",
    "\n",
    "df_flat = flat_table_full_weather_conditions()"
   ]
  },
  {
   "cell_type": "code",
   "execution_count": 18,
   "metadata": {
    "ExecuteTime": {
     "end_time": "2021-01-23T10:11:34.098222Z",
     "start_time": "2021-01-23T10:11:33.794680Z"
    }
   },
   "outputs": [],
   "source": [
    "def round_time_nearest_hour(time):\n",
    "    y=datetime.fromtimestamp(time)\n",
    "    new_hour=y.hour+y.minute//30\n",
    "    if new_hour==24:\n",
    "        new_hour=0\n",
    "    return y.replace(hour=new_hour).replace(minute=0).replace(second=0)\n",
    "\n",
    "df1['nearest_hour']=df1['datetime'].apply(lambda x:round_time_nearest_hour(x))\n",
    "df_flat['nearest_hour']=df_flat['ts'].apply(lambda x:round_time_nearest_hour(x))"
   ]
  },
  {
   "cell_type": "code",
   "execution_count": 19,
   "metadata": {
    "ExecuteTime": {
     "end_time": "2021-01-23T10:11:34.186206Z",
     "start_time": "2021-01-23T10:11:34.102115Z"
    }
   },
   "outputs": [],
   "source": [
    "def round_gps(column,decimals=4):\n",
    "    return column.astype('float').round(decimals=decimals)\n",
    "\n",
    "df1['lat']=round_gps(df1['lat'])\n",
    "df1['lon']=round_gps(df1['lon'])\n",
    "df_flat['lat']=round_gps(df_flat['lat'])\n",
    "df_flat['lon']=round_gps(df_flat['lon'])"
   ]
  },
  {
   "cell_type": "code",
   "execution_count": 20,
   "metadata": {
    "ExecuteTime": {
     "end_time": "2021-01-23T10:11:34.787318Z",
     "start_time": "2021-01-23T10:11:34.192440Z"
    }
   },
   "outputs": [
    {
     "data": {
      "text/html": [
       "<div>\n",
       "<style scoped>\n",
       "    .dataframe tbody tr th:only-of-type {\n",
       "        vertical-align: middle;\n",
       "    }\n",
       "\n",
       "    .dataframe tbody tr th {\n",
       "        vertical-align: top;\n",
       "    }\n",
       "\n",
       "    .dataframe thead th {\n",
       "        text-align: right;\n",
       "    }\n",
       "</style>\n",
       "<table border=\"1\" class=\"dataframe\">\n",
       "  <thead>\n",
       "    <tr style=\"text-align: right;\">\n",
       "      <th></th>\n",
       "      <th>device_id</th>\n",
       "      <th>datetime_x</th>\n",
       "      <th>address_ip</th>\n",
       "      <th>address_port</th>\n",
       "      <th>original_message_id</th>\n",
       "      <th>raw_message</th>\n",
       "      <th>status</th>\n",
       "      <th>lat</th>\n",
       "      <th>lat_dir</th>\n",
       "      <th>lon</th>\n",
       "      <th>...</th>\n",
       "      <th>dni</th>\n",
       "      <th>azimuth</th>\n",
       "      <th>datetime_y</th>\n",
       "      <th>temp</th>\n",
       "      <th>precip</th>\n",
       "      <th>clouds</th>\n",
       "      <th>ts</th>\n",
       "      <th>weather.icon</th>\n",
       "      <th>weather.code</th>\n",
       "      <th>weather.description</th>\n",
       "    </tr>\n",
       "  </thead>\n",
       "  <tbody>\n",
       "    <tr>\n",
       "      <th>28</th>\n",
       "      <td>st-1a2090</td>\n",
       "      <td>1550052436</td>\n",
       "      <td>172.23.0.1</td>\n",
       "      <td>4007</td>\n",
       "      <td>1550056036964-0</td>\n",
       "      <td>A,5$1.90%3500666&amp;6666@66*,N,5.5429625@,E,0.0,5...</td>\n",
       "      <td>A</td>\n",
       "      <td>51.9035</td>\n",
       "      <td>N</td>\n",
       "      <td>5.5430</td>\n",
       "      <td>...</td>\n",
       "      <td>697.54</td>\n",
       "      <td>150.99</td>\n",
       "      <td>2019-02-13:10</td>\n",
       "      <td>3.7</td>\n",
       "      <td>0.0</td>\n",
       "      <td>88.0</td>\n",
       "      <td>1.550052e+09</td>\n",
       "      <td>c04d</td>\n",
       "      <td>804.0</td>\n",
       "      <td>Overcast clouds</td>\n",
       "    </tr>\n",
       "    <tr>\n",
       "      <th>29</th>\n",
       "      <td>st-1a2090</td>\n",
       "      <td>1550052437</td>\n",
       "      <td>172.23.0.1</td>\n",
       "      <td>4007</td>\n",
       "      <td>1550056037556-0</td>\n",
       "      <td>A,51.903500666666666,N,5.5429623333333335,E,0....</td>\n",
       "      <td>A</td>\n",
       "      <td>51.9035</td>\n",
       "      <td>N</td>\n",
       "      <td>5.5430</td>\n",
       "      <td>...</td>\n",
       "      <td>697.54</td>\n",
       "      <td>150.99</td>\n",
       "      <td>2019-02-13:10</td>\n",
       "      <td>3.7</td>\n",
       "      <td>0.0</td>\n",
       "      <td>88.0</td>\n",
       "      <td>1.550052e+09</td>\n",
       "      <td>c04d</td>\n",
       "      <td>804.0</td>\n",
       "      <td>Overcast clouds</td>\n",
       "    </tr>\n",
       "    <tr>\n",
       "      <th>532</th>\n",
       "      <td>st-1a2090</td>\n",
       "      <td>1550052376</td>\n",
       "      <td>172.23.0.1</td>\n",
       "      <td>4007</td>\n",
       "      <td>1550055976972-0</td>\n",
       "      <td>A,5$1.90%3498,N,&amp;5.54@29*67833333333,@E,0.0,25...</td>\n",
       "      <td>A</td>\n",
       "      <td>51.9035</td>\n",
       "      <td>N</td>\n",
       "      <td>5.5430</td>\n",
       "      <td>...</td>\n",
       "      <td>697.54</td>\n",
       "      <td>150.99</td>\n",
       "      <td>2019-02-13:10</td>\n",
       "      <td>3.7</td>\n",
       "      <td>0.0</td>\n",
       "      <td>88.0</td>\n",
       "      <td>1.550052e+09</td>\n",
       "      <td>c04d</td>\n",
       "      <td>804.0</td>\n",
       "      <td>Overcast clouds</td>\n",
       "    </tr>\n",
       "    <tr>\n",
       "      <th>533</th>\n",
       "      <td>st-1a2090</td>\n",
       "      <td>1550052383</td>\n",
       "      <td>172.23.0.1</td>\n",
       "      <td>4007</td>\n",
       "      <td>1550055983470-0</td>\n",
       "      <td>A,51.903498,N,5.542968833333333,E,0.0,249.97,1...</td>\n",
       "      <td>A</td>\n",
       "      <td>51.9035</td>\n",
       "      <td>N</td>\n",
       "      <td>5.5430</td>\n",
       "      <td>...</td>\n",
       "      <td>697.54</td>\n",
       "      <td>150.99</td>\n",
       "      <td>2019-02-13:10</td>\n",
       "      <td>3.7</td>\n",
       "      <td>0.0</td>\n",
       "      <td>88.0</td>\n",
       "      <td>1.550052e+09</td>\n",
       "      <td>c04d</td>\n",
       "      <td>804.0</td>\n",
       "      <td>Overcast clouds</td>\n",
       "    </tr>\n",
       "    <tr>\n",
       "      <th>534</th>\n",
       "      <td>st-1a2090</td>\n",
       "      <td>1550052383</td>\n",
       "      <td>172.23.0.1</td>\n",
       "      <td>4007</td>\n",
       "      <td>1550055983976-0</td>\n",
       "      <td>A,51.903498,N,5.542968833333333,E,0.0,253.24,1...</td>\n",
       "      <td>A</td>\n",
       "      <td>51.9035</td>\n",
       "      <td>N</td>\n",
       "      <td>5.5430</td>\n",
       "      <td>...</td>\n",
       "      <td>697.54</td>\n",
       "      <td>150.99</td>\n",
       "      <td>2019-02-13:10</td>\n",
       "      <td>3.7</td>\n",
       "      <td>0.0</td>\n",
       "      <td>88.0</td>\n",
       "      <td>1.550052e+09</td>\n",
       "      <td>c04d</td>\n",
       "      <td>804.0</td>\n",
       "      <td>Overcast clouds</td>\n",
       "    </tr>\n",
       "    <tr>\n",
       "      <th>...</th>\n",
       "      <td>...</td>\n",
       "      <td>...</td>\n",
       "      <td>...</td>\n",
       "      <td>...</td>\n",
       "      <td>...</td>\n",
       "      <td>...</td>\n",
       "      <td>...</td>\n",
       "      <td>...</td>\n",
       "      <td>...</td>\n",
       "      <td>...</td>\n",
       "      <td>...</td>\n",
       "      <td>...</td>\n",
       "      <td>...</td>\n",
       "      <td>...</td>\n",
       "      <td>...</td>\n",
       "      <td>...</td>\n",
       "      <td>...</td>\n",
       "      <td>...</td>\n",
       "      <td>...</td>\n",
       "      <td>...</td>\n",
       "      <td>...</td>\n",
       "    </tr>\n",
       "    <tr>\n",
       "      <th>29989</th>\n",
       "      <td>st-1a2090</td>\n",
       "      <td>1550067836</td>\n",
       "      <td>172.24.0.1</td>\n",
       "      <td>4007</td>\n",
       "      <td>1550071436892-0</td>\n",
       "      <td>A,5$1.82%6647833&amp;3333@3,*N,4.95665216@6666666,...</td>\n",
       "      <td>A</td>\n",
       "      <td>51.8266</td>\n",
       "      <td>N</td>\n",
       "      <td>4.9567</td>\n",
       "      <td>...</td>\n",
       "      <td>678.01</td>\n",
       "      <td>212.44</td>\n",
       "      <td>2019-02-13:14</td>\n",
       "      <td>8.3</td>\n",
       "      <td>0.0</td>\n",
       "      <td>100.0</td>\n",
       "      <td>1.550066e+09</td>\n",
       "      <td>c04d</td>\n",
       "      <td>804.0</td>\n",
       "      <td>Overcast clouds</td>\n",
       "    </tr>\n",
       "    <tr>\n",
       "      <th>31405</th>\n",
       "      <td>st-1a2090</td>\n",
       "      <td>1550048106</td>\n",
       "      <td>172.20.0.1</td>\n",
       "      <td>4007</td>\n",
       "      <td>1550051706899-2</td>\n",
       "      <td>A,51.87622233333333,N,5.7971985,E,9.68,282.64,...</td>\n",
       "      <td>A</td>\n",
       "      <td>51.8762</td>\n",
       "      <td>N</td>\n",
       "      <td>5.7972</td>\n",
       "      <td>...</td>\n",
       "      <td>602.91</td>\n",
       "      <td>137.01</td>\n",
       "      <td>2019-02-13:09</td>\n",
       "      <td>4.4</td>\n",
       "      <td>0.0</td>\n",
       "      <td>86.0</td>\n",
       "      <td>1.550048e+09</td>\n",
       "      <td>c04d</td>\n",
       "      <td>804.0</td>\n",
       "      <td>Overcast clouds</td>\n",
       "    </tr>\n",
       "    <tr>\n",
       "      <th>31685</th>\n",
       "      <td>st-1a2090</td>\n",
       "      <td>1550063086</td>\n",
       "      <td>172.23.0.1</td>\n",
       "      <td>4007</td>\n",
       "      <td>1550066686863-0</td>\n",
       "      <td>A,51.817197166666666,N,5.1726453333333335,E,9....</td>\n",
       "      <td>A</td>\n",
       "      <td>51.8172</td>\n",
       "      <td>N</td>\n",
       "      <td>5.1726</td>\n",
       "      <td>...</td>\n",
       "      <td>731.25</td>\n",
       "      <td>197.57</td>\n",
       "      <td>2019-02-13:13</td>\n",
       "      <td>7.2</td>\n",
       "      <td>0.0</td>\n",
       "      <td>100.0</td>\n",
       "      <td>1.550063e+09</td>\n",
       "      <td>c04d</td>\n",
       "      <td>804.0</td>\n",
       "      <td>Overcast clouds</td>\n",
       "    </tr>\n",
       "    <tr>\n",
       "      <th>31686</th>\n",
       "      <td>st-1a2090</td>\n",
       "      <td>1550063087</td>\n",
       "      <td>172.23.0.1</td>\n",
       "      <td>4007</td>\n",
       "      <td>1550066687456-0</td>\n",
       "      <td>A,51.817201,N,5.172609333333333,E,9.82,280.19,...</td>\n",
       "      <td>A</td>\n",
       "      <td>51.8172</td>\n",
       "      <td>N</td>\n",
       "      <td>5.1726</td>\n",
       "      <td>...</td>\n",
       "      <td>731.25</td>\n",
       "      <td>197.57</td>\n",
       "      <td>2019-02-13:13</td>\n",
       "      <td>7.2</td>\n",
       "      <td>0.0</td>\n",
       "      <td>100.0</td>\n",
       "      <td>1.550063e+09</td>\n",
       "      <td>c04d</td>\n",
       "      <td>804.0</td>\n",
       "      <td>Overcast clouds</td>\n",
       "    </tr>\n",
       "    <tr>\n",
       "      <th>34778</th>\n",
       "      <td>st-1a2090</td>\n",
       "      <td>1550059427</td>\n",
       "      <td>172.23.0.1</td>\n",
       "      <td>4007</td>\n",
       "      <td>1550063027862-0</td>\n",
       "      <td>A,5$1.84%3888333&amp;3333@3,*N,5.4094385,@E,11.04,...</td>\n",
       "      <td>A</td>\n",
       "      <td>51.8439</td>\n",
       "      <td>N</td>\n",
       "      <td>5.4094</td>\n",
       "      <td>...</td>\n",
       "      <td>749.13</td>\n",
       "      <td>181.69</td>\n",
       "      <td>2019-02-13:12</td>\n",
       "      <td>6.5</td>\n",
       "      <td>0.0</td>\n",
       "      <td>100.0</td>\n",
       "      <td>1.550059e+09</td>\n",
       "      <td>c04d</td>\n",
       "      <td>804.0</td>\n",
       "      <td>Overcast clouds</td>\n",
       "    </tr>\n",
       "  </tbody>\n",
       "</table>\n",
       "<p>2214 rows × 54 columns</p>\n",
       "</div>"
      ],
      "text/plain": [
       "       device_id  datetime_x  address_ip  address_port original_message_id  \\\n",
       "28     st-1a2090  1550052436  172.23.0.1          4007     1550056036964-0   \n",
       "29     st-1a2090  1550052437  172.23.0.1          4007     1550056037556-0   \n",
       "532    st-1a2090  1550052376  172.23.0.1          4007     1550055976972-0   \n",
       "533    st-1a2090  1550052383  172.23.0.1          4007     1550055983470-0   \n",
       "534    st-1a2090  1550052383  172.23.0.1          4007     1550055983976-0   \n",
       "...          ...         ...         ...           ...                 ...   \n",
       "29989  st-1a2090  1550067836  172.24.0.1          4007     1550071436892-0   \n",
       "31405  st-1a2090  1550048106  172.20.0.1          4007     1550051706899-2   \n",
       "31685  st-1a2090  1550063086  172.23.0.1          4007     1550066686863-0   \n",
       "31686  st-1a2090  1550063087  172.23.0.1          4007     1550066687456-0   \n",
       "34778  st-1a2090  1550059427  172.23.0.1          4007     1550063027862-0   \n",
       "\n",
       "                                             raw_message status      lat  \\\n",
       "28     A,5$1.90%3500666&6666@66*,N,5.5429625@,E,0.0,5...      A  51.9035   \n",
       "29     A,51.903500666666666,N,5.5429623333333335,E,0....      A  51.9035   \n",
       "532    A,5$1.90%3498,N,&5.54@29*67833333333,@E,0.0,25...      A  51.9035   \n",
       "533    A,51.903498,N,5.542968833333333,E,0.0,249.97,1...      A  51.9035   \n",
       "534    A,51.903498,N,5.542968833333333,E,0.0,253.24,1...      A  51.9035   \n",
       "...                                                  ...    ...      ...   \n",
       "29989  A,5$1.82%6647833&3333@3,*N,4.95665216@6666666,...      A  51.8266   \n",
       "31405  A,51.87622233333333,N,5.7971985,E,9.68,282.64,...      A  51.8762   \n",
       "31685  A,51.817197166666666,N,5.1726453333333335,E,9....      A  51.8172   \n",
       "31686  A,51.817201,N,5.172609333333333,E,9.82,280.19,...      A  51.8172   \n",
       "34778  A,5$1.84%3888333&3333@3,*N,5.4094385,@E,11.04,...      A  51.8439   \n",
       "\n",
       "      lat_dir     lon  ...     dni  azimuth     datetime_y temp precip clouds  \\\n",
       "28          N  5.5430  ...  697.54   150.99  2019-02-13:10  3.7    0.0   88.0   \n",
       "29          N  5.5430  ...  697.54   150.99  2019-02-13:10  3.7    0.0   88.0   \n",
       "532         N  5.5430  ...  697.54   150.99  2019-02-13:10  3.7    0.0   88.0   \n",
       "533         N  5.5430  ...  697.54   150.99  2019-02-13:10  3.7    0.0   88.0   \n",
       "534         N  5.5430  ...  697.54   150.99  2019-02-13:10  3.7    0.0   88.0   \n",
       "...       ...     ...  ...     ...      ...            ...  ...    ...    ...   \n",
       "29989       N  4.9567  ...  678.01   212.44  2019-02-13:14  8.3    0.0  100.0   \n",
       "31405       N  5.7972  ...  602.91   137.01  2019-02-13:09  4.4    0.0   86.0   \n",
       "31685       N  5.1726  ...  731.25   197.57  2019-02-13:13  7.2    0.0  100.0   \n",
       "31686       N  5.1726  ...  731.25   197.57  2019-02-13:13  7.2    0.0  100.0   \n",
       "34778       N  5.4094  ...  749.13   181.69  2019-02-13:12  6.5    0.0  100.0   \n",
       "\n",
       "                 ts weather.icon weather.code weather.description  \n",
       "28     1.550052e+09         c04d        804.0     Overcast clouds  \n",
       "29     1.550052e+09         c04d        804.0     Overcast clouds  \n",
       "532    1.550052e+09         c04d        804.0     Overcast clouds  \n",
       "533    1.550052e+09         c04d        804.0     Overcast clouds  \n",
       "534    1.550052e+09         c04d        804.0     Overcast clouds  \n",
       "...             ...          ...          ...                 ...  \n",
       "29989  1.550066e+09         c04d        804.0     Overcast clouds  \n",
       "31405  1.550048e+09         c04d        804.0     Overcast clouds  \n",
       "31685  1.550063e+09         c04d        804.0     Overcast clouds  \n",
       "31686  1.550063e+09         c04d        804.0     Overcast clouds  \n",
       "34778  1.550059e+09         c04d        804.0     Overcast clouds  \n",
       "\n",
       "[2214 rows x 54 columns]"
      ]
     },
     "execution_count": 20,
     "metadata": {},
     "output_type": "execute_result"
    }
   ],
   "source": [
    "def clean_join_input_data_with_flat_data(df1=df1, df2=df_flat, how='left', join_list=['lat', 'lon', 'nearest_hour']):\n",
    "    result = df1.merge(df2, how=how, on=join_list)\n",
    "    return result[~result.isna().any(axis=1)]\n",
    "\n",
    "clean_join_input_data_with_flat_data()"
   ]
  },
  {
   "cell_type": "markdown",
   "metadata": {},
   "source": [
    "## Exercise 4: SQL"
   ]
  },
  {
   "cell_type": "code",
   "execution_count": 27,
   "metadata": {
    "ExecuteTime": {
     "end_time": "2021-01-23T10:41:14.901374Z",
     "start_time": "2021-01-23T10:41:14.879434Z"
    }
   },
   "outputs": [
    {
     "data": {
      "text/html": [
       "<div>\n",
       "<style scoped>\n",
       "    .dataframe tbody tr th:only-of-type {\n",
       "        vertical-align: middle;\n",
       "    }\n",
       "\n",
       "    .dataframe tbody tr th {\n",
       "        vertical-align: top;\n",
       "    }\n",
       "\n",
       "    .dataframe thead th {\n",
       "        text-align: right;\n",
       "    }\n",
       "</style>\n",
       "<table border=\"1\" class=\"dataframe\">\n",
       "  <thead>\n",
       "    <tr style=\"text-align: right;\">\n",
       "      <th></th>\n",
       "      <th>device_id</th>\n",
       "      <th>datetime</th>\n",
       "      <th>address_ip</th>\n",
       "      <th>address_port</th>\n",
       "      <th>original_message_id</th>\n",
       "      <th>raw_message</th>\n",
       "      <th>status</th>\n",
       "      <th>lat</th>\n",
       "      <th>lat_dir</th>\n",
       "      <th>lon</th>\n",
       "      <th>lon_dir</th>\n",
       "      <th>speed</th>\n",
       "      <th>track_degrees</th>\n",
       "      <th>date</th>\n",
       "      <th>mag_var</th>\n",
       "      <th>mag_var_dir</th>\n",
       "      <th>hour</th>\n",
       "      <th>correct_date</th>\n",
       "      <th>nearest_hour</th>\n",
       "    </tr>\n",
       "  </thead>\n",
       "  <tbody>\n",
       "    <tr>\n",
       "      <th>0</th>\n",
       "      <td>0001</td>\n",
       "      <td>1550066999</td>\n",
       "      <td>172.19.0.17</td>\n",
       "      <td>4007</td>\n",
       "      <td>1550070599576-0</td>\n",
       "      <td>A,5$1.31%8308166&amp;6666@7,*N,4.31572216@6666666,...</td>\n",
       "      <td>A</td>\n",
       "      <td>51.3183</td>\n",
       "      <td>N</td>\n",
       "      <td>4.3157</td>\n",
       "      <td>E</td>\n",
       "      <td>0.0</td>\n",
       "      <td>1.59</td>\n",
       "      <td>150218</td>\n",
       "      <td>0.8</td>\n",
       "      <td>E</td>\n",
       "      <td>2019-02-13 15</td>\n",
       "      <td>2019-02-13</td>\n",
       "      <td>2019-02-13 15:00:00</td>\n",
       "    </tr>\n",
       "  </tbody>\n",
       "</table>\n",
       "</div>"
      ],
      "text/plain": [
       "  device_id    datetime   address_ip  address_port original_message_id  \\\n",
       "0      0001  1550066999  172.19.0.17          4007     1550070599576-0   \n",
       "\n",
       "                                         raw_message status      lat lat_dir  \\\n",
       "0  A,5$1.31%8308166&6666@7,*N,4.31572216@6666666,...      A  51.3183       N   \n",
       "\n",
       "      lon lon_dir  speed track_degrees    date mag_var mag_var_dir  \\\n",
       "0  4.3157       E    0.0          1.59  150218     0.8           E   \n",
       "\n",
       "            hour correct_date        nearest_hour  \n",
       "0  2019-02-13 15   2019-02-13 2019-02-13 15:00:00  "
      ]
     },
     "execution_count": 27,
     "metadata": {},
     "output_type": "execute_result"
    }
   ],
   "source": [
    "df1.head(1)"
   ]
  },
  {
   "cell_type": "code",
   "execution_count": 87,
   "metadata": {
    "ExecuteTime": {
     "end_time": "2021-01-23T12:19:00.221990Z",
     "start_time": "2021-01-23T12:18:59.376194Z"
    }
   },
   "outputs": [],
   "source": [
    "def dic_name_and_type(df,primary_key):\n",
    "    dic_db={}\n",
    "    for x in df1:\n",
    "        dic_db[x]='VARCHAR('+str(df[x].astype('str').str.len().max())+')'\n",
    "    if primary_key is not None:\n",
    "        dic_db[primary_key]=dic_db[primary_key]+' PRIMARY KEY'\n",
    "    return dic_db\n",
    "dic_table_info=dic_name_and_type(df1,None);"
   ]
  },
  {
   "cell_type": "code",
   "execution_count": 92,
   "metadata": {
    "ExecuteTime": {
     "end_time": "2021-01-23T12:29:19.303021Z",
     "start_time": "2021-01-23T12:29:19.296070Z"
    }
   },
   "outputs": [
    {
     "data": {
      "text/plain": [
       "False"
      ]
     },
     "execution_count": 92,
     "metadata": {},
     "output_type": "execute_result"
    }
   ],
   "source": [
    "None is not None"
   ]
  },
  {
   "cell_type": "code",
   "execution_count": 97,
   "metadata": {
    "ExecuteTime": {
     "end_time": "2021-01-23T12:30:03.058947Z",
     "start_time": "2021-01-23T12:30:03.052959Z"
    }
   },
   "outputs": [
    {
     "name": "stdout",
     "output_type": "stream",
     "text": [
      "CREATE TABLE IF NOT EXISTS ex4(device_id VARCHAR(9),\n",
      "datetime VARCHAR(10),\n",
      "address_ip VARCHAR(13),\n",
      "address_port VARCHAR(4),\n",
      "original_message_id VARCHAR(15),\n",
      "raw_message VARCHAR(75),\n",
      "status VARCHAR(1),\n",
      "lat VARCHAR(7),\n",
      "lat_dir VARCHAR(1),\n",
      "lon VARCHAR(6),\n",
      "lon_dir VARCHAR(1),\n",
      "speed VARCHAR(5),\n",
      "track_degrees VARCHAR(6),\n",
      "date VARCHAR(6),\n",
      "mag_var VARCHAR(3),\n",
      "mag_var_dir VARCHAR(1),\n",
      "hour VARCHAR(13),\n",
      "correct_date VARCHAR(10),\n",
      "nearest_hour VARCHAR(19));\n"
     ]
    }
   ],
   "source": [
    "print(sql_create_table_from_dic(dic_table_info,'ex4'))"
   ]
  },
  {
   "cell_type": "code",
   "execution_count": 94,
   "metadata": {
    "ExecuteTime": {
     "end_time": "2021-01-23T12:29:23.127816Z",
     "start_time": "2021-01-23T12:29:23.121106Z"
    }
   },
   "outputs": [],
   "source": [
    "def sql_create_table_from_dic(dic,table_name):\n",
    "    columns = \"(\" + \",\\n\".join([\"{} {}\".format(k,v) for k,v in dic.items()]) + \")\"\n",
    "    sql_create_table = \"\"\"CREATE TABLE IF NOT EXISTS \"\"\"+ str(table_name) +columns+\"\"\";\"\"\"+\"\"\"\"\"\"\n",
    "    return sql_create_table\n"
   ]
  },
  {
   "cell_type": "code",
   "execution_count": 104,
   "metadata": {
    "ExecuteTime": {
     "end_time": "2021-01-23T12:34:15.453432Z",
     "start_time": "2021-01-23T12:34:13.389292Z"
    }
   },
   "outputs": [],
   "source": [
    "from sqlalchemy import create_engine\n",
    "engine = create_engine('sqlite://', echo=False)\n",
    "\n",
    "with engine.begin() as connection:\n",
    "    df1.to_sql(name='ex4', con=connection, if_exists='append', index=False)"
   ]
  },
  {
   "cell_type": "code",
   "execution_count": 102,
   "metadata": {
    "ExecuteTime": {
     "end_time": "2021-01-23T12:32:08.730909Z",
     "start_time": "2021-01-23T12:32:08.725921Z"
    }
   },
   "outputs": [],
   "source": [
    "import sqlite3 \n",
    "  \n",
    "# connecting to the database  \n",
    "connection = sqlite3.connect(\"xomnia.db\") \n",
    "  \n",
    "# cursor  \n",
    "crsr = connection.cursor() \n",
    "  \n",
    "# SQL command to create a table in the database \n",
    "# sql_create_table_ex4=sql_create_table_from_dic(dic_table_info,'ex4')"
   ]
  },
  {
   "cell_type": "code",
   "execution_count": 103,
   "metadata": {
    "ExecuteTime": {
     "end_time": "2021-01-23T12:32:11.413688Z",
     "start_time": "2021-01-23T12:32:10.626364Z"
    }
   },
   "outputs": [],
   "source": [
    "# execute the statement \n",
    "df1.to_sql(name='ex4', con=connection, if_exists='append', index=False)\n",
    "# crsr.execute(sql_create_table_ex4) \n",
    "  \n",
    "# # SQL command to insert the data in the table \n",
    "# sql_command = \"\"\"INSERT INTO ex4 VALUES (23, \"Rishabh\", \"Bansal\", \"M\", \"2014-03-28\");\"\"\"\n",
    "# crsr.execute(sql_command) \n",
    "\n",
    "  \n",
    "# To save the changes in the files. Never skip this.  \n",
    "# If we skip this, nothing will be saved in the database. \n",
    "# connection.commit() \n",
    "  \n",
    "# close the connection \n",
    "# connection.close() "
   ]
  },
  {
   "cell_type": "code",
   "execution_count": 74,
   "metadata": {
    "ExecuteTime": {
     "end_time": "2021-01-23T12:05:12.806795Z",
     "start_time": "2021-01-23T12:05:12.789706Z"
    }
   },
   "outputs": [
    {
     "data": {
      "text/plain": [
       "['device_id',\n",
       " 'datetime',\n",
       " 'address_ip',\n",
       " 'address_port',\n",
       " 'original_message_id',\n",
       " 'raw_message',\n",
       " 'status',\n",
       " 'lat',\n",
       " 'lat_dir',\n",
       " 'lon',\n",
       " 'lon_dir',\n",
       " 'speed',\n",
       " 'track_degrees',\n",
       " 'date',\n",
       " 'mag_var',\n",
       " 'mag_var_dir',\n",
       " 'hour',\n",
       " 'correct_date',\n",
       " 'nearest_hour']"
      ]
     },
     "execution_count": 74,
     "metadata": {},
     "output_type": "execute_result"
    }
   ],
   "source": [
    "def get_column_names_from_db_table(sql_cursor, table_name):\n",
    "    \"\"\"\n",
    "    Scrape the column names from a database table to a list\n",
    "    :param sql_cursor: sqlite cursor\n",
    "    :param table_name: table name to get the column names from\n",
    "    :return: a list with table column names\n",
    "    \"\"\"\n",
    "\n",
    "    table_column_names = 'PRAGMA table_info(' + table_name + ');'\n",
    "    sql_cursor.execute(table_column_names)\n",
    "    table_column_names = sql_cursor.fetchall()\n",
    "\n",
    "    column_names = list()\n",
    "\n",
    "    for name in table_column_names:\n",
    "        column_names.append(name[1])\n",
    "\n",
    "    return column_names\n",
    "\n",
    "get_column_names_from_db_table(crsr,'ex4')"
   ]
  }
 ],
 "metadata": {
  "hide_input": false,
  "kernelspec": {
   "display_name": "Python 3",
   "language": "python",
   "name": "python3"
  },
  "language_info": {
   "codemirror_mode": {
    "name": "ipython",
    "version": 3
   },
   "file_extension": ".py",
   "mimetype": "text/x-python",
   "name": "python",
   "nbconvert_exporter": "python",
   "pygments_lexer": "ipython3",
   "version": "3.7.6"
  },
  "varInspector": {
   "cols": {
    "lenName": 16,
    "lenType": 16,
    "lenVar": 40
   },
   "kernels_config": {
    "python": {
     "delete_cmd_postfix": "",
     "delete_cmd_prefix": "del ",
     "library": "var_list.py",
     "varRefreshCmd": "print(var_dic_list())"
    },
    "r": {
     "delete_cmd_postfix": ") ",
     "delete_cmd_prefix": "rm(",
     "library": "var_list.r",
     "varRefreshCmd": "cat(var_dic_list()) "
    }
   },
   "types_to_exclude": [
    "module",
    "function",
    "builtin_function_or_method",
    "instance",
    "_Feature"
   ],
   "window_display": false
  }
 },
 "nbformat": 4,
 "nbformat_minor": 4
}
